{
 "cells": [
  {
   "cell_type": "code",
   "execution_count": 20,
   "id": "b45215e2-8878-4588-97c5-9d43f0214835",
   "metadata": {},
   "outputs": [
    {
     "name": "stdout",
     "output_type": "stream",
     "text": [
      "Ejercicio 1 en python\n",
      "=====================\n",
      "\n"
     ]
    },
    {
     "name": "stdin",
     "output_type": "stream",
     "text": [
      "ingrese dimension:  8\n"
     ]
    },
    {
     "name": "stdout",
     "output_type": "stream",
     "text": [
      "\n"
     ]
    },
    {
     "name": "stdin",
     "output_type": "stream",
     "text": [
      "ingrese caracter:  c\n",
      "ingrese caracter:  l\n",
      "ingrese caracter:  a\n",
      "ingrese caracter:  r\n",
      "ingrese caracter:  i\n",
      "ingrese caracter:  b\n",
      "ingrese caracter:  e\n",
      "ingrese caracter:  l\n"
     ]
    },
    {
     "name": "stdout",
     "output_type": "stream",
     "text": [
      "lebiralc\n"
     ]
    }
   ],
   "source": [
    "print(\"Ejercicio 1 en python\")\n",
    "print(\"=====================\")\n",
    "print()\n",
    "n=int(input(\"ingrese dimension: \"))\n",
    "print()\n",
    "V=[]\n",
    "invertida= \"\"\n",
    "for i in range(n):\n",
    "    caracter=input(\"ingrese caracter: \")\n",
    "    V.append(caracter)    \n",
    "for i in V:\n",
    "    invertida=i+invertida\n",
    "print(invertida)\n",
    "\n",
    "   \n",
    "\n",
    "\n",
    "    \n"
   ]
  },
  {
   "cell_type": "code",
   "execution_count": null,
   "id": "6c89209c-16ff-40fd-9c43-231612beaa72",
   "metadata": {},
   "outputs": [],
   "source": []
  }
 ],
 "metadata": {
  "kernelspec": {
   "display_name": "Python 3 (ipykernel)",
   "language": "python",
   "name": "python3"
  },
  "language_info": {
   "codemirror_mode": {
    "name": "ipython",
    "version": 3
   },
   "file_extension": ".py",
   "mimetype": "text/x-python",
   "name": "python",
   "nbconvert_exporter": "python",
   "pygments_lexer": "ipython3",
   "version": "3.9.12"
  }
 },
 "nbformat": 4,
 "nbformat_minor": 5
}

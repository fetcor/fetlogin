{
 "cells": [
  {
   "cell_type": "markdown",
   "id": "ddbdb402-877e-4455-976b-5407d7de74d9",
   "metadata": {},
   "source": [
    "## Ejercicio 12\n",
    "# Bucles\n",
    "# while"
   ]
  },
  {
   "cell_type": "code",
   "execution_count": 4,
   "id": "2d8e0a0d-f32e-4a41-9317-15d07c6b4791",
   "metadata": {},
   "outputs": [
    {
     "name": "stdin",
     "output_type": "stream",
     "text": [
      " 10\n"
     ]
    },
    {
     "name": "stdout",
     "output_type": "stream",
     "text": [
      "[10, 8, 6, 4, 2]\n"
     ]
    }
   ],
   "source": [
    "n=int(input())\n",
    "A=[]\n",
    "while n>0:\n",
    "    A.append(n)\n",
    "    \n",
    "    n-=2\n",
    "print(A)"
   ]
  },
  {
   "cell_type": "code",
   "execution_count": 10,
   "id": "9d1db3a0-5a7c-42d2-aa1f-513dc0ad923a",
   "metadata": {},
   "outputs": [
    {
     "name": "stdin",
     "output_type": "stream",
     "text": [
      "numero para la tabla de multiplicar:  5\n"
     ]
    },
    {
     "name": "stdout",
     "output_type": "stream",
     "text": [
      "La tabla de multiplicar es: 5x1 = 5\n",
      "La tabla de multiplicar es: 5x2 = 10\n",
      "La tabla de multiplicar es: 5x3 = 15\n",
      "La tabla de multiplicar es: 5x4 = 20\n",
      "La tabla de multiplicar es: 5x5 = 25\n",
      "La tabla de multiplicar es: 5x6 = 30\n",
      "La tabla de multiplicar es: 5x7 = 35\n",
      "La tabla de multiplicar es: 5x8 = 40\n",
      "La tabla de multiplicar es: 5x9 = 45\n",
      "La tabla de multiplicar es: 5x10 = 50\n"
     ]
    }
   ],
   "source": [
    "n=int(input(\"numero para la tabla de multiplicar: \"))\n",
    "i=0\n",
    "while i<=9:\n",
    "    i+=1\n",
    "    A=n*i\n",
    "    print(\"La tabla de multiplicar es: {}x{} = {}\".format(n,i,A))"
   ]
  },
  {
   "cell_type": "code",
   "execution_count": 13,
   "id": "fa76cdf4-4c29-4e28-ac71-6d47c15b3551",
   "metadata": {},
   "outputs": [
    {
     "name": "stdin",
     "output_type": "stream",
     "text": [
      "ingresa su edad:  33\n"
     ]
    },
    {
     "name": "stdout",
     "output_type": "stream",
     "text": [
      "Estas cumpliendo 1 años\n",
      "Estas cumpliendo 2 años\n",
      "Estas cumpliendo 3 años\n",
      "Estas cumpliendo 4 años\n",
      "Estas cumpliendo 5 años\n",
      "Estas cumpliendo 6 años\n",
      "Estas cumpliendo 7 años\n",
      "Estas cumpliendo 8 años\n",
      "Estas cumpliendo 9 años\n",
      "Estas cumpliendo 10 años\n",
      "Estas cumpliendo 11 años\n",
      "Estas cumpliendo 12 años\n",
      "Estas cumpliendo 13 años\n",
      "Estas cumpliendo 14 años\n",
      "Estas cumpliendo 15 años\n",
      "Estas cumpliendo 16 años\n",
      "Estas cumpliendo 17 años\n",
      "Estas cumpliendo 18 años\n",
      "Estas cumpliendo 19 años\n",
      "Estas cumpliendo 20 años\n",
      "Estas cumpliendo 21 años\n",
      "Estas cumpliendo 22 años\n",
      "Estas cumpliendo 23 años\n",
      "Estas cumpliendo 24 años\n",
      "Estas cumpliendo 25 años\n",
      "Estas cumpliendo 26 años\n",
      "Estas cumpliendo 27 años\n",
      "Estas cumpliendo 28 años\n",
      "Estas cumpliendo 29 años\n",
      "Estas cumpliendo 30 años\n",
      "Estas cumpliendo 31 años\n",
      "Estas cumpliendo 32 años\n",
      "Estas cumpliendo 33 años\n"
     ]
    }
   ],
   "source": [
    "edad=int(input(\"ingresa su edad: \"))\n",
    "i=0\n",
    "while i<edad:\n",
    "    i+=1\n",
    "    print(\"Estas cumpliendo {} años\".format(i))"
   ]
  },
  {
   "cell_type": "markdown",
   "id": "fcbcbe5c-5a98-4898-a3e2-7956a4879cad",
   "metadata": {},
   "source": [
    "# Bucle For"
   ]
  },
  {
   "cell_type": "code",
   "execution_count": 30,
   "id": "ad452b6b-132b-44e7-ada9-dca780863759",
   "metadata": {},
   "outputs": [
    {
     "name": "stdin",
     "output_type": "stream",
     "text": [
      "ingrese numero:  11\n"
     ]
    },
    {
     "name": "stdout",
     "output_type": "stream",
     "text": [
      "El rango de este numero es: 1\n",
      "El rango de este numero es: 3\n",
      "El rango de este numero es: 5\n",
      "El rango de este numero es: 7\n",
      "El rango de este numero es: 9\n"
     ]
    }
   ],
   "source": [
    "n=int(input(\"ingrese numero: \"))\n",
    "\n",
    "for i in range(1,n,2):\n",
    "    \n",
    "    print(\"El rango de este numero es: {}\".format(i))\n",
    "    \n",
    "   \n",
    "    \n",
    "    "
   ]
  },
  {
   "cell_type": "code",
   "execution_count": null,
   "id": "008af28a-1bc7-4624-a56a-623d4d9b2af1",
   "metadata": {},
   "outputs": [],
   "source": []
  },
  {
   "cell_type": "code",
   "execution_count": null,
   "id": "9dabce02-f7a1-49fc-a3af-96c68febf1fc",
   "metadata": {},
   "outputs": [],
   "source": []
  }
 ],
 "metadata": {
  "kernelspec": {
   "display_name": "Python 3 (ipykernel)",
   "language": "python",
   "name": "python3"
  },
  "language_info": {
   "codemirror_mode": {
    "name": "ipython",
    "version": 3
   },
   "file_extension": ".py",
   "mimetype": "text/x-python",
   "name": "python",
   "nbconvert_exporter": "python",
   "pygments_lexer": "ipython3",
   "version": "3.9.12"
  }
 },
 "nbformat": 4,
 "nbformat_minor": 5
}

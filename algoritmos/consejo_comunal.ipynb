{
 "cells": [
  {
   "cell_type": "code",
   "execution_count": 3,
   "id": "09761d42-a5f9-4356-a900-e0497ae6fad5",
   "metadata": {},
   "outputs": [
    {
     "name": "stdin",
     "output_type": "stream",
     "text": [
      "ingrese nombre del consejo comunal:  r\n",
      "ingrese ubicacion del mismo:  e\n",
      "ingrese sectores productivos cercanos a su comunidad:  w\n",
      "ingrese la region geografica del consejo comunal:  \n"
     ]
    },
    {
     "name": "stdout",
     "output_type": "stream",
     "text": [
      "Evaluar las necesidades del sector w y orientar a la poblacion de e a usar las tecnologias necesarias para el progreso de la comunidad\n"
     ]
    },
    {
     "name": "stdin",
     "output_type": "stream",
     "text": [
      "ingrese producto agricola:  \n"
     ]
    },
    {
     "name": "stdout",
     "output_type": "stream",
     "text": [
      "Esta  posee w proveniente de \n"
     ]
    }
   ],
   "source": [
    "class Consejo_comunal():\n",
    "    def __init__(self):\n",
    "        self.nombre= str(input(\"ingrese nombre del consejo comunal: \"))\n",
    "        self.ubicacion= str(input(\"ingrese ubicacion del mismo: \"))\n",
    "        self.sectores_productivos= str(input(\"ingrese sectores productivos cercanos a su comunidad: \"))\n",
    "        \n",
    "\n",
    "    def regiones(self):\n",
    "        self.varias=input(\"ingrese la region geografica del consejo comunal: \")\n",
    "\n",
    "        \n",
    "\n",
    "    def politicas(self):\n",
    "        print(\"Evaluar las necesidades del sector {} y orientar a la poblacion de {} a usar las tecnologias necesarias para el progreso de la comunidad\".format(self.sectores_productivos,self.ubicacion))\n",
    "     \n",
    "    def agricultura(self):\n",
    "        self.producto=input(\"ingrese producto agricola: \")\n",
    "    def descripcion(self):\n",
    "        print(\"Esta {} posee {} proveniente de {}\".format(self.varias,self.sectores_productivos,self.producto))\n",
    "\n",
    "\n",
    "                \n",
    "consejocomunal= Consejo_comunal()\n",
    "consejocomunal.regiones()\n",
    "\n",
    "consejocomunal.politicas()\n",
    "consejocomunal.agricultura()\n",
    "\n",
    "consejocomunal.descripcion()"
   ]
  },
  {
   "cell_type": "code",
   "execution_count": null,
   "id": "be67d004-1837-4224-926d-86caf3075bd6",
   "metadata": {},
   "outputs": [],
   "source": []
  }
 ],
 "metadata": {
  "kernelspec": {
   "display_name": "Python 3 (ipykernel)",
   "language": "python",
   "name": "python3"
  },
  "language_info": {
   "codemirror_mode": {
    "name": "ipython",
    "version": 3
   },
   "file_extension": ".py",
   "mimetype": "text/x-python",
   "name": "python",
   "nbconvert_exporter": "python",
   "pygments_lexer": "ipython3",
   "version": "3.9.12"
  }
 },
 "nbformat": 4,
 "nbformat_minor": 5
}

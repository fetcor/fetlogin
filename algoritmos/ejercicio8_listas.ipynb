{
 "cells": [
  {
   "cell_type": "markdown",
   "id": "0cf7479e-d0b1-42e4-9c54-d577fc1fe117",
   "metadata": {},
   "source": [
    "## Ejercicio 8\n",
    "# Ejercicio de listas\n"
   ]
  },
  {
   "cell_type": "code",
   "execution_count": 26,
   "id": "a5c404b6-8fee-4000-85c4-48db1996eab7",
   "metadata": {},
   "outputs": [
    {
     "name": "stdout",
     "output_type": "stream",
     "text": [
      "[1, 2, 3, 4, 5, 6, 7, 8, 9, 10]\n",
      "[1, 2, 3, 8, 5, 6, 14, 8, 18, 10]\n"
     ]
    }
   ],
   "source": [
    "A=[]\n",
    "i=1\n",
    "while i<=10:\n",
    "    A.append(i)\n",
    "    \n",
    "    i+=1\n",
    "print(A)\n",
    "A[3]*=2\n",
    "A[6]*=2\n",
    "A[8]*=2\n",
    "print(A)\n",
    "\n"
   ]
  },
  {
   "cell_type": "code",
   "execution_count": null,
   "id": "4a712888-e821-4888-8748-0bbe3bd94270",
   "metadata": {},
   "outputs": [],
   "source": []
  },
  {
   "cell_type": "code",
   "execution_count": null,
   "id": "4d8bbb7a-de73-4258-b08c-53172ab6c0b1",
   "metadata": {},
   "outputs": [],
   "source": []
  }
 ],
 "metadata": {
  "kernelspec": {
   "display_name": "Python 3 (ipykernel)",
   "language": "python",
   "name": "python3"
  },
  "language_info": {
   "codemirror_mode": {
    "name": "ipython",
    "version": 3
   },
   "file_extension": ".py",
   "mimetype": "text/x-python",
   "name": "python",
   "nbconvert_exporter": "python",
   "pygments_lexer": "ipython3",
   "version": "3.9.12"
  }
 },
 "nbformat": 4,
 "nbformat_minor": 5
}

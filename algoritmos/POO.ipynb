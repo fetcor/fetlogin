{
 "cells": [
  {
   "cell_type": "markdown",
   "id": "a6e25190-5c8c-4ae2-acca-4036378ad63d",
   "metadata": {
    "tags": []
   },
   "source": [
    "## PROGRAMACION ORIENTADA A OBJETOS(POO)\n",
    "# CLASES\n",
    "SE DEBE CREAR PRIMERO LA CLASE PARA LUEGO CREAR EL OBJETO. LAS CLASES SON EL MOLDE PARA HACER EL OBJETO (LA GALLETA)."
   ]
  },
  {
   "cell_type": "markdown",
   "id": "bcd30a16-190b-4c9d-a6c7-e84d7da5944a",
   "metadata": {},
   "source": [
    "# Metodos y atributos\n",
    "Los metodos son funciones pero en el POO son metodos, los cuales hacen los objetos. por ejemplo: si una clase crea objetos(personas), entonces uno de los metodos es hablar\n",
    "# Sintaxis:\n",
    "class Persona():\n",
    "    def Hablar():\n",
    "        print(\"hola\")"
   ]
  },
  {
   "cell_type": "markdown",
   "id": "9d4172bb-8b59-44ad-b08f-4d53c20a7877",
   "metadata": {},
   "source": [
    "# Atributos\n",
    "Los atributos son caracteristicas, cualidades o descripciones que tienen los objetos. Aunque, desde un punto de vide de codigo, son datos que pueden tener los objetos.\n",
    "# sintaxis\n",
    "class Carro():\n",
    "    color\n",
    "    llantas\n",
    "    marca"
   ]
  },
  {
   "cell_type": "code",
   "execution_count": 40,
   "id": "c9ece7ee-3e0b-4085-ab61-54f9976d9dea",
   "metadata": {},
   "outputs": [
    {
     "name": "stdout",
     "output_type": "stream",
     "text": [
      "Jeepeto es un: chevrolet cavalier\n",
      "Jeepeto esta encendido\n",
      "y el carro va a 80km/h\n"
     ]
    }
   ],
   "source": [
    "class Carro():\n",
    "    marca='chevrolet'\n",
    "    modelo='cavalier'\n",
    "    nombre='jeepeto'\n",
    "    anio='1999'\n",
    "    color='Azul'\n",
    "    n_de_puertas= 4\n",
    "    motor='2.2 L'\n",
    "    def Encendido(self,mensaje):\n",
    "        return mensaje\n",
    "    def velocidad(self):\n",
    "        print(\"y el carro va a 80km/h\")\n",
    "vehiculo= Carro()\n",
    "vehiculo.marca\n",
    "print(\"Jeepeto es un: \"+vehiculo.marca+\" \"+ vehiculo.modelo)\n",
    "print(vehiculo.Encendido(\"Jeepeto esta encendido\") )\n",
    "vehiculo.velocidad()"
   ]
  },
  {
   "cell_type": "markdown",
   "id": "a563bf07-dfb8-4697-804f-9f29f3167145",
   "metadata": {},
   "source": [
    "# Self\n",
    "metodo de instancia metodo creado por nosotros se colocara como parametro (SELF): nos permitira englobar atributos a toda la clase y a todo el programa"
   ]
  },
  {
   "cell_type": "code",
   "execution_count": 41,
   "id": "44845b91-b2e7-4634-ba94-23a509e5b1ce",
   "metadata": {},
   "outputs": [
    {
     "name": "stderr",
     "output_type": "stream",
     "text": [
      "Exception ignored in: <function Fabricatelefonos.__del__ at 0x000001B3DD0CACA0>\n",
      "Traceback (most recent call last):\n",
      "  File \"C:\\Users\\fetco\\AppData\\Local\\Temp\\ipykernel_14912\\2152190877.py\", line 5, in <cell line: 5>\n",
      "TypeError: __del__() missing 2 required positional arguments: 'marca' and 'color'\n"
     ]
    },
    {
     "name": "stdout",
     "output_type": "stream",
     "text": [
      "sansung\n",
      "Huawei\n"
     ]
    }
   ],
   "source": [
    "class Fabricatelefonos():\n",
    "    marca='sansung'\n",
    "    def ElaborarHuawei(self):\n",
    "        self.marca='Huawei'\n",
    "telefono=Fabricatelefonos()\n",
    "print(telefono.marca)\n",
    "telefono.ElaborarHuawei()\n",
    "print(telefono.marca)"
   ]
  },
  {
   "cell_type": "markdown",
   "id": "d782e32e-5d23-4cb9-ae0d-615077240443",
   "metadata": {},
   "source": [
    "# Init\n",
    "Es el metodo constructor de una clase, es con el cual se inicia al crear un objeto"
   ]
  },
  {
   "cell_type": "code",
   "execution_count": 42,
   "id": "9a30cd46-65a9-471d-8539-a59857259d57",
   "metadata": {},
   "outputs": [
    {
     "name": "stdout",
     "output_type": "stream",
     "text": [
      "Huawei negro\n"
     ]
    }
   ],
   "source": [
    "class Fabricatelefonos():\n",
    "    def __init__(self,marca,color):\n",
    "        self.marca= marca\n",
    "        self.color= color\n",
    "\n",
    "telefono=Fabricatelefonos('Huawei', 'negro')\n",
    "print(telefono.marca, telefono.color)"
   ]
  },
  {
   "cell_type": "markdown",
   "id": "648a97be-ab41-4932-9f5b-a5d7595ecbbe",
   "metadata": {},
   "source": [
    "# Metodo destructor del\n",
    "\n"
   ]
  },
  {
   "cell_type": "code",
   "execution_count": 8,
   "id": "e6723166-2196-428e-8761-5be9c39349ad",
   "metadata": {},
   "outputs": [
    {
     "name": "stdout",
     "output_type": "stream",
     "text": [
      "EL objeto Huawei ha sido creado\n",
      "El objeto Huawei ha sido destruido\n",
      "Huawei negro\n",
      "El objeto es Huawei\n"
     ]
    }
   ],
   "source": [
    "class Fabricatelefonos():\n",
    "    def __init__(self,marca,color):\n",
    "        self.marca= marca\n",
    "        self.color= color\n",
    "        print(\"EL objeto {} ha sido creado\".format(self.marca))\n",
    "        \n",
    "    def __str__(self):\n",
    "        return \"El objeto es {}\".format(self.marca)\n",
    "    \n",
    "    def __del__(self):\n",
    "        \n",
    "        print(\"El objeto {} ha sido destruido\".format(self.marca))\n",
    "\n",
    "telefono=Fabricatelefonos('Huawei', 'negro')\n",
    "print(telefono.marca, telefono.color)\n",
    "print(telefono)"
   ]
  },
  {
   "cell_type": "code",
   "execution_count": null,
   "id": "211bd7e1-23fc-48d0-9b17-59b8ccc1e150",
   "metadata": {},
   "outputs": [],
   "source": []
  },
  {
   "cell_type": "code",
   "execution_count": null,
   "id": "85380adf-f364-44cb-a364-5bbdbdac9f59",
   "metadata": {},
   "outputs": [],
   "source": []
  }
 ],
 "metadata": {
  "kernelspec": {
   "display_name": "Python 3 (ipykernel)",
   "language": "python",
   "name": "python3"
  },
  "language_info": {
   "codemirror_mode": {
    "name": "ipython",
    "version": 3
   },
   "file_extension": ".py",
   "mimetype": "text/x-python",
   "name": "python",
   "nbconvert_exporter": "python",
   "pygments_lexer": "ipython3",
   "version": "3.9.12"
  }
 },
 "nbformat": 4,
 "nbformat_minor": 5
}

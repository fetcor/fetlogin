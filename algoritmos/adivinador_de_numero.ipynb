{
 "cells": [
  {
   "cell_type": "markdown",
   "id": "e9c76122-f230-4baa-bd7d-67a0c451240d",
   "metadata": {},
   "source": [
    "# Evitar este tipo de programas donde colocas condicionales anidados"
   ]
  },
  {
   "cell_type": "code",
   "execution_count": 2,
   "id": "7b9fb104-069b-4df4-8453-66f15a1a5e2c",
   "metadata": {},
   "outputs": [
    {
     "name": "stdin",
     "output_type": "stream",
     "text": [
      "Guess the number:  19\n"
     ]
    },
    {
     "name": "stdout",
     "output_type": "stream",
     "text": [
      "19 is less than the secret number\n"
     ]
    },
    {
     "name": "stdin",
     "output_type": "stream",
     "text": [
      "Guess the number:  21\n"
     ]
    },
    {
     "name": "stdout",
     "output_type": "stream",
     "text": [
      "21 is greater than the secret number\n"
     ]
    },
    {
     "name": "stdin",
     "output_type": "stream",
     "text": [
      "Guess the number:  20\n"
     ]
    },
    {
     "name": "stdout",
     "output_type": "stream",
     "text": [
      "You guessed the number: 20\n"
     ]
    }
   ],
   "source": [
    "secret_number = 20\n",
    " \n",
    "while True:\n",
    "   number = input('Guess the number: ')\n",
    " \n",
    "   try:\n",
    "       number = int(number)\n",
    "   except:\n",
    "       print('Sorry that is not a number')\n",
    "       continue\n",
    " \n",
    "   if number != secret_number:\n",
    "       if number > secret_number:\n",
    "           print(number, 'is greater than the secret number')\n",
    " \n",
    "       elif number < secret_number:\n",
    "           print(number, 'is less than the secret number')\n",
    "   else:\n",
    "       print('You guessed the number:', secret_number)\n",
    "       break"
   ]
  },
  {
   "cell_type": "code",
   "execution_count": null,
   "id": "ad7b3b58-58b2-463c-8386-ae0c92d2ca8b",
   "metadata": {},
   "outputs": [],
   "source": []
  },
  {
   "cell_type": "code",
   "execution_count": null,
   "id": "bf8ee7c1-3797-4fed-b770-f628d1358958",
   "metadata": {},
   "outputs": [],
   "source": []
  }
 ],
 "metadata": {
  "kernelspec": {
   "display_name": "Python 3 (ipykernel)",
   "language": "python",
   "name": "python3"
  },
  "language_info": {
   "codemirror_mode": {
    "name": "ipython",
    "version": 3
   },
   "file_extension": ".py",
   "mimetype": "text/x-python",
   "name": "python",
   "nbconvert_exporter": "python",
   "pygments_lexer": "ipython3",
   "version": "3.9.12"
  }
 },
 "nbformat": 4,
 "nbformat_minor": 5
}

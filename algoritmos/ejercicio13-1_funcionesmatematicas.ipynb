{
 "cells": [
  {
   "cell_type": "markdown",
   "id": "f9fdaeea-a3dd-45b3-881b-a5eb2946abdc",
   "metadata": {},
   "source": [
    "## Ejercicio 13-1\n",
    "# Funciones matematicas\n"
   ]
  },
  {
   "cell_type": "code",
   "execution_count": 3,
   "id": "361ee15e-a9a9-41f5-9356-6a7f2ca4a274",
   "metadata": {},
   "outputs": [
    {
     "name": "stdout",
     "output_type": "stream",
     "text": [
      "10 5 6 7 23\n"
     ]
    }
   ],
   "source": [
    "def entero():\n",
    "    return 10,5,6,7,23\n",
    "a,b,c,d,e= entero()\n",
    "print(a,b,c,d,e)"
   ]
  },
  {
   "cell_type": "code",
   "execution_count": 6,
   "id": "49ee4ae9-a1ec-4c01-9ee3-107645028b6a",
   "metadata": {},
   "outputs": [
    {
     "name": "stdout",
     "output_type": "stream",
     "text": [
      "0\n"
     ]
    }
   ],
   "source": [
    "def mayor_menor(a,b):\n",
    "    if a<b:\n",
    "        return -1\n",
    "    elif a>b:\n",
    "        return 1\n",
    "    elif a==b:\n",
    "        return 0\n",
    "print(mayor_menor(2,2))\n"
   ]
  },
  {
   "cell_type": "code",
   "execution_count": 12,
   "id": "f91c4e10-55ea-48c8-a331-f89fb2431a60",
   "metadata": {},
   "outputs": [
    {
     "name": "stdout",
     "output_type": "stream",
     "text": [
      "23.0\n"
     ]
    }
   ],
   "source": [
    "def total_factura(a,b):\n",
    "    if b==0:\n",
    "        b=21\n",
    "    fact=a*(1+(b/100))\n",
    "    return fact\n",
    "print(total_factura(20,15))"
   ]
  },
  {
   "cell_type": "markdown",
   "id": "bb6490d7-5369-4aa2-8bde-d4ccd99756a2",
   "metadata": {},
   "source": [
    "## Parametros y argumentos de funciones"
   ]
  },
  {
   "cell_type": "code",
   "execution_count": 13,
   "id": "a4483093-a7a1-478d-b940-fcccd5853956",
   "metadata": {},
   "outputs": [
    {
     "data": {
      "text/plain": [
       "'El area es:12'"
      ]
     },
     "execution_count": 13,
     "metadata": {},
     "output_type": "execute_result"
    }
   ],
   "source": [
    "def area_cuadrado(b,h):\n",
    "    area=b*h\n",
    "    return \"El area es:{}\".format(area)\n",
    "area_cuadrado(3,4)\n"
   ]
  },
  {
   "cell_type": "code",
   "execution_count": 17,
   "id": "4b9ab2da-e639-4690-a75e-407af48783d6",
   "metadata": {},
   "outputs": [
    {
     "name": "stdout",
     "output_type": "stream",
     "text": [
      "[0, 1, 2, 3, 4, 5, 6]\n"
     ]
    }
   ],
   "source": [
    "def muestra(n):\n",
    "    A=[]\n",
    "    for i in range(n+1):\n",
    "        A.append(i)\n",
    "    return A\n",
    "print(muestra(6))"
   ]
  },
  {
   "cell_type": "code",
   "execution_count": null,
   "id": "b05841ca-d7fe-47a6-a3f6-8dd84d0e8ecb",
   "metadata": {},
   "outputs": [],
   "source": []
  }
 ],
 "metadata": {
  "kernelspec": {
   "display_name": "Python 3 (ipykernel)",
   "language": "python",
   "name": "python3"
  },
  "language_info": {
   "codemirror_mode": {
    "name": "ipython",
    "version": 3
   },
   "file_extension": ".py",
   "mimetype": "text/x-python",
   "name": "python",
   "nbconvert_exporter": "python",
   "pygments_lexer": "ipython3",
   "version": "3.9.12"
  }
 },
 "nbformat": 4,
 "nbformat_minor": 5
}

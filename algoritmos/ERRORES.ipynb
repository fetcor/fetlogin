{
 "cells": [
  {
   "cell_type": "markdown",
   "id": "545b2015-c1cc-4727-b7c9-8d81b1f80dea",
   "metadata": {},
   "source": [
    "## Errores y excepciones\n"
   ]
  },
  {
   "cell_type": "code",
   "execution_count": null,
   "id": "1f418363-e122-4047-a9bc-c028fd138702",
   "metadata": {},
   "outputs": [
    {
     "name": "stdin",
     "output_type": "stream",
     "text": [
      "ingresa un numero:  0\n"
     ]
    },
    {
     "name": "stdout",
     "output_type": "stream",
     "text": [
      "no se puede dividir entre cero\n"
     ]
    }
   ],
   "source": [
    "while True:\n",
    "    try:\n",
    "        num=int(input(\"ingresa un numero: \"))\n",
    "        resul=100/num\n",
    "        print(resul)\n",
    "        break\n",
    "    except ZeroDivisionError:\n",
    "        print(\"no se puede dividir entre cero\")\n",
    "        "
   ]
  },
  {
   "cell_type": "code",
   "execution_count": 2,
   "id": "39064d80-191b-4f22-aea5-a2ad1cb7b3a5",
   "metadata": {},
   "outputs": [
    {
     "name": "stdin",
     "output_type": "stream",
     "text": [
      "ingresa tu edad:  er\n"
     ]
    },
    {
     "name": "stdout",
     "output_type": "stream",
     "text": [
      "Dato erroneo\n"
     ]
    },
    {
     "name": "stdin",
     "output_type": "stream",
     "text": [
      "ingresa tu edad:  12\n"
     ]
    },
    {
     "name": "stdout",
     "output_type": "stream",
     "text": [
      "12\n"
     ]
    }
   ],
   "source": [
    "while True:\n",
    "    try:\n",
    "        edad=int(input(\"ingresa tu edad: \"))\n",
    "        print(edad)\n",
    "        break\n",
    "    except ValueError:\n",
    "        print(\"Dato erroneo\")\n",
    "        "
   ]
  },
  {
   "cell_type": "code",
   "execution_count": 4,
   "id": "c063bc96-d6a1-44af-9039-3df1b5b3d886",
   "metadata": {},
   "outputs": [],
   "source": [
    "while True:\n",
    "    try:\n",
    "        edad=int(input(\"ingresa edad\"))\n",
    "        print(edad)\n",
    "        break\n",
    "    except KeyboardInterrupt:\n",
    "        print(\"\\n Has cancelado\")\n",
    "        break"
   ]
  },
  {
   "cell_type": "code",
   "execution_count": null,
   "id": "0dfa942c-3afe-4dfd-a833-9cf97b48d6c4",
   "metadata": {},
   "outputs": [],
   "source": []
  }
 ],
 "metadata": {
  "kernelspec": {
   "display_name": "Python 3 (ipykernel)",
   "language": "python",
   "name": "python3"
  },
  "language_info": {
   "codemirror_mode": {
    "name": "ipython",
    "version": 3
   },
   "file_extension": ".py",
   "mimetype": "text/x-python",
   "name": "python",
   "nbconvert_exporter": "python",
   "pygments_lexer": "ipython3",
   "version": "3.9.12"
  }
 },
 "nbformat": 4,
 "nbformat_minor": 5
}

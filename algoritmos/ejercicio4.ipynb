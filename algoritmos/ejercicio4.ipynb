{
 "cells": [
  {
   "cell_type": "code",
   "execution_count": null,
   "id": "9276ece8-de8a-411a-8183-e5d41a4a8e01",
   "metadata": {},
   "outputs": [],
   "source": [
    "texto=input(\"Ingrese texto: \")\n",
    "palabras=texto.split()\n",
    "A=[]\n",
    "for palabra in palabras:\n",
    "    for indice in range(len(palabra)):\n",
    "        ind=palabra[0]\n",
    "    for i in ind:\n",
    "        print(\"[\",end=\"\")\n",
    "        for elem in i:\n",
    "            print(elem,end=\" \")\n",
    "        print(\"]\",end=\"\")\n",
    "        "
   ]
  },
  {
   "cell_type": "code",
   "execution_count": null,
   "id": "57e7a06c-e1c2-4363-a880-d362dbf1a9d3",
   "metadata": {},
   "outputs": [],
   "source": []
  }
 ],
 "metadata": {
  "kernelspec": {
   "display_name": "Python 3 (ipykernel)",
   "language": "python",
   "name": "python3"
  },
  "language_info": {
   "codemirror_mode": {
    "name": "ipython",
    "version": 3
   },
   "file_extension": ".py",
   "mimetype": "text/x-python",
   "name": "python",
   "nbconvert_exporter": "python",
   "pygments_lexer": "ipython3",
   "version": "3.9.12"
  }
 },
 "nbformat": 4,
 "nbformat_minor": 5
}

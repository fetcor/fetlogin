{
 "cells": [
  {
   "cell_type": "markdown",
   "id": "7baa6825-a622-4754-824b-309276c1a8df",
   "metadata": {},
   "source": [
    "## Ejercicio 9\n",
    "# Diccionarios"
   ]
  },
  {
   "cell_type": "code",
   "execution_count": 9,
   "id": "ad770742-61aa-4790-b3c1-9f6cd3b2bc1f",
   "metadata": {},
   "outputs": [
    {
     "name": "stdout",
     "output_type": "stream",
     "text": [
      "{'nombre': 'fidel', 'apellido': 'cornieles', 'edad': '33 años', 'estatura': '1,80 m', 'peso': '80 kg'}\n",
      "{'nombre': 'fidel', 'apellido': 'cornieles', 'edad': '33 años', 'estatura': '1,80 m', 'peso': '80 kg', 'direccion': 'junquito', 'telefono': '0424-130-75-24'}\n"
     ]
    }
   ],
   "source": [
    "diccionario={'nombre' :'fidel',\n",
    "            'apellido' :'cornieles',\n",
    "            'edad' :'33 años',\n",
    "            'estatura' : '1,80 m'}\n",
    "diccionario2={'direccion' :'junquito',\n",
    "            'telefono' :'0424-130-75-24',\n",
    "            }\n",
    "\n",
    "diccionario.setdefault('peso','80 kg')\n",
    "print(diccionario)\n",
    "diccionario.update(diccionario2)\n",
    "print(diccionario)"
   ]
  },
  {
   "cell_type": "code",
   "execution_count": null,
   "id": "b7fce4f4-8f97-4894-942e-1c05fb725932",
   "metadata": {},
   "outputs": [],
   "source": [
    "\n"
   ]
  },
  {
   "cell_type": "code",
   "execution_count": null,
   "id": "fb080204-5218-46fb-b0ef-652522aa1004",
   "metadata": {},
   "outputs": [],
   "source": []
  }
 ],
 "metadata": {
  "kernelspec": {
   "display_name": "Python 3 (ipykernel)",
   "language": "python",
   "name": "python3"
  },
  "language_info": {
   "codemirror_mode": {
    "name": "ipython",
    "version": 3
   },
   "file_extension": ".py",
   "mimetype": "text/x-python",
   "name": "python",
   "nbconvert_exporter": "python",
   "pygments_lexer": "ipython3",
   "version": "3.9.12"
  }
 },
 "nbformat": 4,
 "nbformat_minor": 5
}

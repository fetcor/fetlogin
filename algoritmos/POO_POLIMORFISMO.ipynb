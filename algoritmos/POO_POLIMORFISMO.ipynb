{
 "cells": [
  {
   "cell_type": "markdown",
   "id": "06ffa64d-2e6f-43d3-96d5-08af6c6794c6",
   "metadata": {},
   "source": [
    "## POO PILARES\n",
    "# Polimorfismo\n",
    "El polimorfismo nos permite modificar ligeramente los métodos y atributos de las subclases previamente definidas en la superclase.\n",
    "\n",
    "El significado literal es «muchas formas«. Esto se debe a que construimos métodos con el mismo nombre pero con diferente funcionalidad.\n",
    "\n",
    "Volviendo a la idea anterior, los niños también son un ejemplo perfecto de polimorfismo. Pueden heredar un comportamiento definido get_hungry() pero de una manera ligeramente diferente, por ejemplo, tener hambre cada 4 horas en lugar de cada 6."
   ]
  },
  {
   "cell_type": "code",
   "execution_count": 6,
   "id": "8f066e63-3450-4ea6-b18f-a92da3203bd5",
   "metadata": {},
   "outputs": [
    {
     "name": "stdout",
     "output_type": "stream",
     "text": [
      "yo digo guauu\n",
      "miauu\n",
      "yo no hablo\n"
     ]
    }
   ],
   "source": [
    "class Animales():\n",
    "    def __init__(self,mensaje):\n",
    "        self.mensaje=mensaje\n",
    "    \n",
    "    def hablar(self):\n",
    "        print(self.mensaje)\n",
    "        \n",
    "class Perro(Animales):\n",
    "    def hablar(self):\n",
    "        print(\"yo digo guauu\")\n",
    "        \n",
    "class Pez(Animales):\n",
    "    def hablar(self):\n",
    "        print(\"yo no hablo\")\n",
    "        \n",
    "perro= Perro(\"guau\")\n",
    "perro.hablar()\n",
    "\n",
    "animal= Animales('miauu')\n",
    "animal.hablar()\n",
    "\n",
    "pez=Pez('nada')\n",
    "pez.hablar()\n"
   ]
  },
  {
   "cell_type": "code",
   "execution_count": null,
   "id": "ae8c97a8-d525-4d36-a422-3b02a30b7085",
   "metadata": {},
   "outputs": [],
   "source": []
  }
 ],
 "metadata": {
  "kernelspec": {
   "display_name": "Python 3 (ipykernel)",
   "language": "python",
   "name": "python3"
  },
  "language_info": {
   "codemirror_mode": {
    "name": "ipython",
    "version": 3
   },
   "file_extension": ".py",
   "mimetype": "text/x-python",
   "name": "python",
   "nbconvert_exporter": "python",
   "pygments_lexer": "ipython3",
   "version": "3.9.12"
  }
 },
 "nbformat": 4,
 "nbformat_minor": 5
}

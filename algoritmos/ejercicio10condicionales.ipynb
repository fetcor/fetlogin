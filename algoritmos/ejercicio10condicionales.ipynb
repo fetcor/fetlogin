{
 "cells": [
  {
   "cell_type": "markdown",
   "id": "6fda88ed-bbaa-42d3-aa4a-42c524732c4a",
   "metadata": {},
   "source": [
    "## Ejercicio 10\n",
    "# condicionales\n"
   ]
  },
  {
   "cell_type": "code",
   "execution_count": 8,
   "id": "7aa595a3-3579-4f5f-bef2-e70bb09ae338",
   "metadata": {},
   "outputs": [
    {
     "name": "stdin",
     "output_type": "stream",
     "text": [
      "ingrese una letra:  \n"
     ]
    },
    {
     "name": "stdout",
     "output_type": "stream",
     "text": [
      "La letra  es consonante\n"
     ]
    }
   ],
   "source": [
    "letra=str(input(\"ingrese una letra: \"))\n",
    "vocal=['a','e','i','o','u']\n",
    "if letra in vocal:\n",
    "    print('La letra {} es vocal'.format(letra))\n",
    "else:\n",
    "    print(\"La letra {} es consonante\".format(letra))"
   ]
  },
  {
   "cell_type": "markdown",
   "id": "0c691506-afd8-4a74-921e-622bfad0526a",
   "metadata": {},
   "source": [
    "# Valor absoluto\n"
   ]
  },
  {
   "cell_type": "code",
   "execution_count": 10,
   "id": "fc44c25d-b1c9-4bcd-834b-359ff959f814",
   "metadata": {},
   "outputs": [
    {
     "name": "stdin",
     "output_type": "stream",
     "text": [
      "ingrese un numero:  -53\n"
     ]
    },
    {
     "name": "stdout",
     "output_type": "stream",
     "text": [
      "El valor absoluto de -53 es: 53\n"
     ]
    }
   ],
   "source": [
    "num=int(input(\"ingrese un numero: \"))\n",
    "if num<0:\n",
    "    num1=num*(-1)\n",
    "    print(\"El valor absoluto de {} es: {}\".format(num,num1))\n",
    "else:\n",
    "    print(\"El valor absoluto de {} es: {}\".format(num,num))"
   ]
  },
  {
   "cell_type": "markdown",
   "id": "67673de1-ceff-4d90-8ead-5543dde633d6",
   "metadata": {},
   "source": [
    "# Rimas\n"
   ]
  },
  {
   "cell_type": "code",
   "execution_count": null,
   "id": "c7904400-2259-4e38-8881-611905f2ddd9",
   "metadata": {},
   "outputs": [],
   "source": []
  },
  {
   "cell_type": "code",
   "execution_count": 13,
   "id": "071ee4e2-d3c1-44a6-9bcd-d71ec885d868",
   "metadata": {},
   "outputs": [
    {
     "name": "stdin",
     "output_type": "stream",
     "text": [
      "primera palabra: siragon\n",
      "segunda palabra: promedina\n"
     ]
    },
    {
     "name": "stdout",
     "output_type": "stream",
     "text": [
      "No Riman\n"
     ]
    }
   ],
   "source": [
    "palabra,palabra1=str(input(\"primera palabra:\")),str(input(\"segunda palabra:\"))\n",
    " \n",
    "if palabra[-3:]==palabra1[-3:]:\n",
    "    print(\"si riman\")\n",
    "elif palabra[-2:]==palabra1[-2:]:\n",
    "    print(\"Riman un poco\")\n",
    "else:\n",
    "    print(\"No Riman\")\n",
    "        "
   ]
  },
  {
   "cell_type": "markdown",
   "id": "75626d97-5cba-49e3-bc39-129e7ec6b178",
   "metadata": {},
   "source": [
    "# Votaciones"
   ]
  },
  {
   "cell_type": "code",
   "execution_count": 17,
   "id": "5dfe0581-345d-49d9-bfc5-04c1c6ad94c5",
   "metadata": {},
   "outputs": [
    {
     "name": "stdout",
     "output_type": "stream",
     "text": [
      "Elija un candidato de las siguientes opciones:\n",
      "Menu de opciones\n",
      "1. Candidato 'A' \n",
      "2. Candidato 'B' \n",
      "3. Candidato 'C' \n"
     ]
    },
    {
     "name": "stdin",
     "output_type": "stream",
     "text": [
      "ingresa la letra de la opcion deseada:  b\n"
     ]
    },
    {
     "name": "stdout",
     "output_type": "stream",
     "text": [
      "Usted ha votado por el partido color Verde\n"
     ]
    }
   ],
   "source": [
    "print(\"Elija un candidato de las siguientes opciones:\")\n",
    "print(\"Menu de opciones\")\n",
    "print(\"1. Candidato 'A' \")\n",
    "print(\"2. Candidato 'B' \")\n",
    "print(\"3. Candidato 'C' \")\n",
    "opcion=str(input(\"ingresa la letra de la opcion deseada: \"))\n",
    "opcion1=opcion.upper()\n",
    "if opcion1==\"A\":\n",
    "    print(\"Usted ha votado por el partido color Rojo\")\n",
    "elif opcion1==\"B\":\n",
    "    print(\"Usted ha votado por el partido color Verde\")\n",
    "elif opcion1==\"C\":\n",
    "    print(\"Usted ha votado por el partido color Azul\")\n",
    "else:\n",
    "    print(\"opcion erronea\")"
   ]
  },
  {
   "cell_type": "code",
   "execution_count": null,
   "id": "67ded48a-dbfb-4ec1-b687-60e5e735ccd5",
   "metadata": {},
   "outputs": [],
   "source": []
  }
 ],
 "metadata": {
  "kernelspec": {
   "display_name": "Python 3 (ipykernel)",
   "language": "python",
   "name": "python3"
  },
  "language_info": {
   "codemirror_mode": {
    "name": "ipython",
    "version": 3
   },
   "file_extension": ".py",
   "mimetype": "text/x-python",
   "name": "python",
   "nbconvert_exporter": "python",
   "pygments_lexer": "ipython3",
   "version": "3.9.12"
  }
 },
 "nbformat": 4,
 "nbformat_minor": 5
}

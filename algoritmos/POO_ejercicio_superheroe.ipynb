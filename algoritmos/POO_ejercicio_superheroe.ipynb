{
 "cells": [
  {
   "cell_type": "markdown",
   "id": "e981d423-9c70-4b6c-9271-75116bbd1378",
   "metadata": {},
   "source": [
    "## Ejercicio POO\n"
   ]
  },
  {
   "cell_type": "code",
   "execution_count": null,
   "id": "f345d600-3ea1-49eb-9b9e-a23d2d8d7eb9",
   "metadata": {},
   "outputs": [],
   "source": []
  },
  {
   "cell_type": "code",
   "execution_count": 5,
   "id": "1debb7c1-271f-45c9-b193-f6b1ceb7c280",
   "metadata": {},
   "outputs": [
    {
     "name": "stdout",
     "output_type": "stream",
     "text": [
      "Thor ataca a Hulk\n",
      "Thor tiene de salud 17\n",
      "Hulk tiene de salud 20\n",
      "Hulk ataca a Thor\n",
      "Hulk tiene de salud 20\n",
      "Thor tiene de salud 12\n"
     ]
    }
   ],
   "source": [
    "class Superheroe():\n",
    "    def __init__(self,nombre, salud, ataque, escudo,arma):\n",
    "        self.nombre= nombre\n",
    "        self.salud= salud\n",
    "        self.ataque= ataque\n",
    "        self.escudo= escudo\n",
    "        self.arma=arma\n",
    "        \n",
    "    def __str__(self):\n",
    "        return self.nombre\n",
    "    \n",
    "    def atacar(self, otro):\n",
    "        if otro.escudo:\n",
    "            self.salud -=self.ataque\n",
    "        else:\n",
    "            otro.salud -=self.ataque\n",
    "        print(\"{} ataca a {}\".format(self, otro))\n",
    "        print(\"{} tiene de salud {}\".format(self, self.salud))\n",
    "        print(\"{} tiene de salud {}\".format(otro, otro.salud))\n",
    "        \n",
    "thor= Superheroe('Thor',20,3, False)\n",
    "hulk= Superheroe('Hulk',20,5, True)\n",
    "\n",
    "thor.atacar(hulk)\n",
    "hulk.atacar(thor)\n",
    "              "
   ]
  },
  {
   "cell_type": "code",
   "execution_count": null,
   "id": "04935bd3-15db-4f78-a38f-35049ece79d8",
   "metadata": {},
   "outputs": [],
   "source": []
  },
  {
   "cell_type": "code",
   "execution_count": null,
   "id": "08ebf169-f938-46f3-869d-20d794e4d848",
   "metadata": {},
   "outputs": [],
   "source": []
  }
 ],
 "metadata": {
  "kernelspec": {
   "display_name": "Python 3 (ipykernel)",
   "language": "python",
   "name": "python3"
  },
  "language_info": {
   "codemirror_mode": {
    "name": "ipython",
    "version": 3
   },
   "file_extension": ".py",
   "mimetype": "text/x-python",
   "name": "python",
   "nbconvert_exporter": "python",
   "pygments_lexer": "ipython3",
   "version": "3.9.12"
  }
 },
 "nbformat": 4,
 "nbformat_minor": 5
}

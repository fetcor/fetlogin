{
 "cells": [
  {
   "cell_type": "markdown",
   "id": "a0fe8ad4-9823-4eb9-89b5-c8d6883bdc49",
   "metadata": {},
   "source": [
    "# Ejercicio 3 en Python\n"
   ]
  },
  {
   "cell_type": "markdown",
   "id": "ced95f14-69e0-4081-9b93-f57ded0906cf",
   "metadata": {},
   "source": [
    "## Contador de palabras"
   ]
  },
  {
   "cell_type": "code",
   "execution_count": 14,
   "id": "0dcc608d-429c-4d1c-8675-d14d1d7cc92c",
   "metadata": {},
   "outputs": [
    {
     "name": "stdin",
     "output_type": "stream",
     "text": [
      "En que estas pensando?:  hola muchachones como estan en este dia tan maravilloso\n"
     ]
    },
    {
     "name": "stdout",
     "output_type": "stream",
     "text": [
      " El numero de palabras es: 9\n"
     ]
    }
   ],
   "source": [
    "texto=input(\"En que estas pensando?: \")\n",
    "palabras=texto.split()\n",
    "\n",
    "for i in range(len(palabras)):\n",
    "    palabra=palabras[i]\n",
    "print(\" El numero de palabras es: {}\".format(i+1))"
   ]
  },
  {
   "cell_type": "code",
   "execution_count": null,
   "id": "9e4f78cb-5fb9-4f92-824b-05fac3fab34d",
   "metadata": {},
   "outputs": [],
   "source": []
  }
 ],
 "metadata": {
  "kernelspec": {
   "display_name": "Python 3 (ipykernel)",
   "language": "python",
   "name": "python3"
  },
  "language_info": {
   "codemirror_mode": {
    "name": "ipython",
    "version": 3
   },
   "file_extension": ".py",
   "mimetype": "text/x-python",
   "name": "python",
   "nbconvert_exporter": "python",
   "pygments_lexer": "ipython3",
   "version": "3.9.12"
  }
 },
 "nbformat": 4,
 "nbformat_minor": 5
}

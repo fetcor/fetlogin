{
 "cells": [
  {
   "cell_type": "markdown",
   "id": "a5b1b059-9817-4278-9bce-30269f5ca151",
   "metadata": {},
   "source": [
    "## POO \n",
    "# Los objetos se pasan mensajes\n"
   ]
  },
  {
   "cell_type": "code",
   "execution_count": 67,
   "id": "1801ece6-96b1-48cf-8c0f-21146487cec7",
   "metadata": {},
   "outputs": [
    {
     "name": "stdout",
     "output_type": "stream",
     "text": [
      "La velocidad es de 127km/h, disminuya por favor\n",
      "Ahora su velocidad es de 117km/h\n"
     ]
    }
   ],
   "source": [
    "import random\n",
    "class Persona():\n",
    "    def __init__(self, nombre, edad, cumple, carro,velocidad):\n",
    "        self.nombre=nombre\n",
    "        self.edad=edad\n",
    "        self.cumple=cumple\n",
    "        self.carro=carro\n",
    "        self.velocidad=velocidad\n",
    "        \n",
    "        \n",
    "    def __str__(self):\n",
    "        return self.nombre\n",
    "    \n",
    "    def saludar(self,otro, dia_actual):\n",
    "        print(\"hola {}, como estas?\".format(otro))\n",
    "        if dia_actual==otro.cumple:\n",
    "            otro.edad +=1\n",
    "            self.felicitar(otro)\n",
    "            # print(\"{} felicidades por tu cumple \".format(otro))\n",
    "            \n",
    "    def responder_saludo(self,otro, marca):\n",
    "        print(\"hola {}, muchas gracias. yo muy bien y tu?\".format(otro.nombre))\n",
    "        if marca==otro.carro:\n",
    "            print(\"Esa marca de carro {} es de las mejores\".format(otro.carro))\n",
    "    \n",
    "    def felicitar(self,otro):\n",
    "        print(\"{} felicidades por tu cumple numero {}\".format(otro, otro.edad))\n",
    "        \n",
    "    def correr(self):\n",
    "        \n",
    "        rapidez = random.randint(110,130)\n",
    "        if rapidez<=self.velocidad:\n",
    "            print(\"Su velocidad es {}km/h\".format(rapidez))\n",
    "            rapidez +=random.randint(1,2)\n",
    "            print(\"ahora vas a  {}km/h\".format(rapidez))\n",
    "                \n",
    "            \n",
    "        elif rapidez>=self.velocidad:\n",
    "            print(\"La velocidad es de {}km/h, disminuya por favor\".format(rapidez))\n",
    "            rapidez -=random.randint(10,11) \n",
    "            print(\"Ahora su velocidad es de {}km/h\".format(rapidez))\n",
    "            \n",
    "            \n",
    "        \n",
    "        \n",
    "fidel= Persona('Fidel', 33, 18/2, 'BMW',120)\n",
    "rosaura= Persona('Rosaura', 71, 26/8, 'Mercedes Benz',100)\n",
    "\n",
    "fidel.correr()"
   ]
  },
  {
   "cell_type": "code",
   "execution_count": null,
   "id": "101c0179-40bb-4476-bcfe-f79148c71bbe",
   "metadata": {},
   "outputs": [],
   "source": []
  },
  {
   "cell_type": "code",
   "execution_count": null,
   "id": "be52f410-65df-4c67-af7f-babbd23174f3",
   "metadata": {},
   "outputs": [],
   "source": []
  },
  {
   "cell_type": "code",
   "execution_count": null,
   "id": "4b9f82c9-bc44-4723-a61f-b5a5c2e32979",
   "metadata": {},
   "outputs": [],
   "source": []
  }
 ],
 "metadata": {
  "kernelspec": {
   "display_name": "Python 3 (ipykernel)",
   "language": "python",
   "name": "python3"
  },
  "language_info": {
   "codemirror_mode": {
    "name": "ipython",
    "version": 3
   },
   "file_extension": ".py",
   "mimetype": "text/x-python",
   "name": "python",
   "nbconvert_exporter": "python",
   "pygments_lexer": "ipython3",
   "version": "3.9.12"
  }
 },
 "nbformat": 4,
 "nbformat_minor": 5
}

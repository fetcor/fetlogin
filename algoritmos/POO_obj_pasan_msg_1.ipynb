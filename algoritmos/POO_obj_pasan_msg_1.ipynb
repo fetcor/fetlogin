{
 "cells": [
  {
   "cell_type": "markdown",
   "id": "33ace75f-d337-4769-896c-8f4004200d60",
   "metadata": {
    "tags": []
   },
   "source": [
    "## POO \n",
    "# Ejercicios\n",
    "# Los objetos se pasan mensajes\n",
    "# 1."
   ]
  },
  {
   "cell_type": "code",
   "execution_count": 26,
   "id": "78e0efb7-cc50-4d21-9568-f7bc5b8449dc",
   "metadata": {},
   "outputs": [
    {
     "name": "stdout",
     "output_type": "stream",
     "text": [
      "Thor es atacado por Hulk , la salud de Thor es: IGUAL y la salud de Hulk: 17\n"
     ]
    }
   ],
   "source": [
    "from dataclasses \\\n",
    "import dataclass\n",
    "\n",
    "@dataclass\n",
    "\n",
    "class Superheroe():\n",
    "    nombre:str\n",
    "    salud:int\n",
    "    ataque:int\n",
    "    escudo:bool\n",
    "    \n",
    "    def atacar(self, otro):\n",
    "        if self.escudo==True and otro.escudo==False:\n",
    "            print(\"{} es atacado por {}\".format(self.nombre,otro.nombre),\\\n",
    "                  \", la salud de {} es: IGUAL y la salud de {}:\".format(self.nombre,otro.nombre),\\\n",
    "                  otro.salud-self.ataque)\n",
    "                  \n",
    "        elif self.escudo==False and otro.escudo==True:\n",
    "            print(\"{} es atacado por {}\".format(otro.nombre,self.nombre),\\\n",
    "                  \" ,la salud de {} es: IGUAL y la salud de {}:\".format(otro.nombre,self.nombre),\\\n",
    "                  self.salud-otro.ataque)\n",
    "        elif self.escudo==False and otro.escudo==False:\n",
    "            print(\"{} es atacado por {}\".format(otro.nombre,self.nombre),\\\n",
    "                  \" ,la salud de {} es: {} y la salud de {} es {}:\".format(otro.nombre,\\\n",
    "                                                                           otro.salud-self.ataque,self.nombre,\\\n",
    "                                                                           self.salud-otro.ataque))\n",
    "        else:\n",
    "            print(\"No se crean ningun daño\")\n",
    "                  \n",
    "            \n",
    "thor= Superheroe('Thor',20,3, True)\n",
    "hulk= Superheroe('Hulk',20,5, False)\n",
    "\n",
    "thor.atacar(hulk)\n",
    "        \n",
    "    "
   ]
  },
  {
   "cell_type": "code",
   "execution_count": null,
   "id": "00bc7e85-86db-4b8e-b825-6b4f33e83065",
   "metadata": {},
   "outputs": [],
   "source": []
  },
  {
   "cell_type": "code",
   "execution_count": null,
   "id": "a0f12a8c-5e88-4893-9fe6-b81a3397e68c",
   "metadata": {},
   "outputs": [],
   "source": []
  }
 ],
 "metadata": {
  "kernelspec": {
   "display_name": "Python 3 (ipykernel)",
   "language": "python",
   "name": "python3"
  },
  "language_info": {
   "codemirror_mode": {
    "name": "ipython",
    "version": 3
   },
   "file_extension": ".py",
   "mimetype": "text/x-python",
   "name": "python",
   "nbconvert_exporter": "python",
   "pygments_lexer": "ipython3",
   "version": "3.9.12"
  }
 },
 "nbformat": 4,
 "nbformat_minor": 5
}

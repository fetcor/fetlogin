{
 "cells": [
  {
   "cell_type": "markdown",
   "id": "59cc9f0a-b1a2-4860-938b-9442487eaa90",
   "metadata": {},
   "source": [
    "## Ejercicio 6\n",
    "# Ecuacion cuadratica"
   ]
  },
  {
   "cell_type": "code",
   "execution_count": 28,
   "id": "ec0ef83d-bdc0-4191-a710-cfc4a6e5537c",
   "metadata": {},
   "outputs": [
    {
     "name": "stdin",
     "output_type": "stream",
     "text": [
      "ingrese a:  1\n",
      "ingrese b:  3\n",
      "ingrese c:  2\n"
     ]
    },
    {
     "name": "stdout",
     "output_type": "stream",
     "text": [
      "las soluciones: \n",
      "x1 = -1.0 \n",
      "x2 = -2.0\n"
     ]
    }
   ],
   "source": [
    "import math\n",
    "\n",
    "a,b,c=float(input(\"ingrese a: \")),float(input(\"ingrese b: \")),float(input(\"ingrese c: \"))\n",
    "if (4*a*c)<b**2:\n",
    "    x1=(-b+math.sqrt(b**2-4*a*c))/(2*a)\n",
    "    x2=(-b-math.sqrt(b**2-4*a*c))/(2*a)\n",
    "    print(\"las soluciones: \\nx1 = {} \\nx2 = {}\".format(x1,x2))\n",
    "else:\n",
    "    print(\"No se puede sacar raices negativas\")"
   ]
  },
  {
   "cell_type": "markdown",
   "id": "79043cae-dd62-4c8c-a05c-fbc5277315c5",
   "metadata": {},
   "source": [
    "## Ejercicio 7\n",
    "# Concatenacion de variables\n"
   ]
  },
  {
   "cell_type": "code",
   "execution_count": 37,
   "id": "6e14b09a-a057-4681-9dc4-3048e424aada",
   "metadata": {},
   "outputs": [
    {
     "ename": "SyntaxError",
     "evalue": "invalid syntax (2794957844.py, line 2)",
     "output_type": "error",
     "traceback": [
      "\u001b[1;36m  Input \u001b[1;32mIn [37]\u001b[1;36m\u001b[0m\n\u001b[1;33m    vocal=vocal.upper()\u001b[0m\n\u001b[1;37m    ^\u001b[0m\n\u001b[1;31mSyntaxError\u001b[0m\u001b[1;31m:\u001b[0m invalid syntax\n"
     ]
    }
   ],
   "source": [
    "vocal,letra=str(input(\"ingrese vocal minuscula: \")),(str(input(\"ingrese letra mayuscula: \"))\n",
    "vocal=vocal.upper()\n",
    "letra=letra.lower()\n",
    "print(\"Los resultados son: \\nvocal: {}  \\nletra: {}\".format(vocal,letra))"
   ]
  },
  {
   "cell_type": "code",
   "execution_count": null,
   "id": "5f39d5f6-0e8f-44cc-82a4-509388c1dc17",
   "metadata": {},
   "outputs": [],
   "source": []
  }
 ],
 "metadata": {
  "kernelspec": {
   "display_name": "Python 3 (ipykernel)",
   "language": "python",
   "name": "python3"
  },
  "language_info": {
   "codemirror_mode": {
    "name": "ipython",
    "version": 3
   },
   "file_extension": ".py",
   "mimetype": "text/x-python",
   "name": "python",
   "nbconvert_exporter": "python",
   "pygments_lexer": "ipython3",
   "version": "3.9.12"
  }
 },
 "nbformat": 4,
 "nbformat_minor": 5
}

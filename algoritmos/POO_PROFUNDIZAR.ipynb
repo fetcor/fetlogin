{
 "cells": [
  {
   "cell_type": "markdown",
   "id": "a987aaa4-d68d-4181-a426-88bb16858026",
   "metadata": {},
   "source": [
    "## Profundizar POO\n",
    "vamos agregar atributos temporales y tambien vamos a tener mas datos con el metodo init\n"
   ]
  },
  {
   "cell_type": "code",
   "execution_count": 10,
   "id": "61e43878-116e-40ed-b184-fe2d73b715fb",
   "metadata": {},
   "outputs": [
    {
     "name": "stdout",
     "output_type": "stream",
     "text": [
      "El telefono Sansung{'m1': 6120, 'm2': 3100} ha sido creado\n",
      "Los telefonos Sansung ('negro', 'azul') {'m1': 6120, 'm2': 3100}  respecitvamente se han creado de manera satisfactoria\n"
     ]
    }
   ],
   "source": [
    "class Fabricatelefonos():\n",
    "    def __init__(self, marca, *colores, **modelos):\n",
    "        self.marca= marca\n",
    "        self.colores= colores\n",
    "        self.modelos= modelos\n",
    "        print(\"El telefono {}{} ha sido creado\".format(self.marca,self.modelos))\n",
    "telefono= Fabricatelefonos('Sansung','negro','azul',m1= 6120,m2=3100)\n",
    "print(\"Los telefonos\",telefono.marca,telefono.colores, telefono.modelos,' respecitvamente se han creado de manera satisfactoria')      "
   ]
  },
  {
   "cell_type": "code",
   "execution_count": null,
   "id": "f67dfd11-65b2-4c65-bc63-42a9289c799d",
   "metadata": {},
   "outputs": [],
   "source": []
  }
 ],
 "metadata": {
  "kernelspec": {
   "display_name": "Python 3 (ipykernel)",
   "language": "python",
   "name": "python3"
  },
  "language_info": {
   "codemirror_mode": {
    "name": "ipython",
    "version": 3
   },
   "file_extension": ".py",
   "mimetype": "text/x-python",
   "name": "python",
   "nbconvert_exporter": "python",
   "pygments_lexer": "ipython3",
   "version": "3.9.12"
  }
 },
 "nbformat": 4,
 "nbformat_minor": 5
}

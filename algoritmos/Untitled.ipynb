{
 "cells": [
  {
   "cell_type": "code",
   "execution_count": null,
   "id": "2af8ebcb-be03-4ddf-ad24-df6127befc97",
   "metadata": {},
   "outputs": [],
   "source": [
    "from scrapy.item import Field\n",
    "from scrapy.item import Item\n",
    "from scrapy.spiders import Spider\n",
    "from scrapy.selector import Selector\n",
    "from scrapy.contrib.loader import ItemLoader\n",
    "\n",
    "#extraer informacion de stackoverflow: preguntas\n",
    "class Pregunta(Item):\n",
    "    pregunta=Field()\n",
    "    id=Field()\n",
    "    \n",
    "class StackoverflowSpider(Spider):\n",
    "    name= 'Miprimerspider'\n",
    "    star_urls=['https://stackoverflow.com/']\n",
    "    def parse(self, response):\n",
    "        sel=Selector(response)\n",
    "        preguntas=sel.xpath(\"//[@id='questions']/div\")\n",
    "        \n",
    "        #iterar sobre todas las preguntas\n",
    "        for i, elem in enumerate(preguntas(),elem):\n",
    "            item = ItemLoader(Pregunta(),elem)\n",
    "            #como añadir estos elementos a la estructura de xml a nuestro item\n",
    "            item.add_xpath('pregunta','.//h3/a/text()')\n",
    "            item.add_value('id',i)\n",
    "            #ahora una sentencia que nos retorne nuestro item, va a escribir en nuestra salida cada uno de los campos \\\n",
    "            #de los item\n",
    "            yield item.load_item()"
   ]
  }
 ],
 "metadata": {
  "kernelspec": {
   "display_name": "Python 3 (ipykernel)",
   "language": "python",
   "name": "python3"
  },
  "language_info": {
   "codemirror_mode": {
    "name": "ipython",
    "version": 3
   },
   "file_extension": ".py",
   "mimetype": "text/x-python",
   "name": "python",
   "nbconvert_exporter": "python",
   "pygments_lexer": "ipython3",
   "version": "3.9.13"
  }
 },
 "nbformat": 4,
 "nbformat_minor": 5
}

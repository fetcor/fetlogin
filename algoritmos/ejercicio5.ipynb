{
 "cells": [
  {
   "cell_type": "markdown",
   "id": "9da7daef-bfab-472e-9eb9-cdf1a27fec9d",
   "metadata": {},
   "source": [
    "## Ejercicio 5\n",
    "# Peso total de la venta"
   ]
  },
  {
   "cell_type": "code",
   "execution_count": 5,
   "id": "90ac5a99-6f50-499b-81f0-c90ca37e89e4",
   "metadata": {},
   "outputs": [
    {
     "name": "stdin",
     "output_type": "stream",
     "text": [
      "cantidad de payaso:  50\n",
      "cantidad de muneca:  122\n",
      "peso de payaso:  100\n",
      "peso de muneca:  90\n"
     ]
    },
    {
     "name": "stdout",
     "output_type": "stream",
     "text": [
      "El peso de toda la venta es: 15980\n"
     ]
    }
   ],
   "source": [
    "payaso,muneca=int(input(\"cantidad de payaso: \")),int(input(\"cantidad de muneca: \"))\n",
    "peso_payaso, peso_muneca=int(input(\"peso de payaso: \")),int(input(\"peso de muneca: \"))\n",
    "peso_total=payaso*peso_payaso+muneca*peso_muneca\n",
    "print(\"El peso de toda la venta es: {}\".format(peso_total))"
   ]
  },
  {
   "cell_type": "code",
   "execution_count": 89,
   "id": "b95ed566-e4c1-4dbc-ab52-1ce6d858d69c",
   "metadata": {},
   "outputs": [
    {
     "name": "stdout",
     "output_type": "stream",
     "text": [
      "te\n",
      "iga\n",
      "t ueosl ooaia\n",
      "te quiero solo como amigaagima omoc olos oreiuq et\n"
     ]
    }
   ],
   "source": [
    "texto=\"te quiero solo como amiga\"\n",
    "print(texto[0:2])\n",
    "print(texto[-3:])\n",
    "print(texto[0::2])\n",
    "print(texto[:]+texto[::-1])"
   ]
  },
  {
   "cell_type": "code",
   "execution_count": 88,
   "id": "571887ba-f219-4867-b512-f959f9a833c3",
   "metadata": {},
   "outputs": [
    {
     "name": "stdout",
     "output_type": "stream",
     "text": [
      "s,e,p,a,r,a,d,o,\n"
     ]
    }
   ],
   "source": [
    "cadena=\"eparado\"\n",
    "print(\"s\"+cadena.replace('',\",\",))\n"
   ]
  },
  {
   "cell_type": "code",
   "execution_count": 91,
   "id": "c819e69e-35db-4572-8c14-6c92da89b96c",
   "metadata": {},
   "outputs": [
    {
     "ename": "SyntaxError",
     "evalue": "unexpected EOF while parsing (249124043.py, line 1)",
     "output_type": "error",
     "traceback": [
      "\u001b[1;36m  Input \u001b[1;32mIn [91]\u001b[1;36m\u001b[0m\n\u001b[1;33m    vocal,letra=str(input(\"ingrese vocal minuscula: \")),(str(input(\"ingrese letra mayuscula: \"))\u001b[0m\n\u001b[1;37m                                                                                                ^\u001b[0m\n\u001b[1;31mSyntaxError\u001b[0m\u001b[1;31m:\u001b[0m unexpected EOF while parsing\n"
     ]
    }
   ],
   "source": [
    "vocal,letra=str(input(\"ingrese vocal minuscula: \")),(str(input(\"ingrese letra mayuscula: \"))\n"
   ]
  },
  {
   "cell_type": "code",
   "execution_count": null,
   "id": "f77ded49-e927-447b-b90d-bbd9031d4f24",
   "metadata": {},
   "outputs": [],
   "source": []
  }
 ],
 "metadata": {
  "kernelspec": {
   "display_name": "Python 3 (ipykernel)",
   "language": "python",
   "name": "python3"
  },
  "language_info": {
   "codemirror_mode": {
    "name": "ipython",
    "version": 3
   },
   "file_extension": ".py",
   "mimetype": "text/x-python",
   "name": "python",
   "nbconvert_exporter": "python",
   "pygments_lexer": "ipython3",
   "version": "3.9.12"
  }
 },
 "nbformat": 4,
 "nbformat_minor": 5
}

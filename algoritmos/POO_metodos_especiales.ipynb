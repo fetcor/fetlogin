{
 "cells": [
  {
   "cell_type": "markdown",
   "id": "eaf52da0-2fca-4880-a84f-9f596a2ee393",
   "metadata": {},
   "source": [
    "## POO \n",
    "# Metodos especiales\n"
   ]
  },
  {
   "cell_type": "code",
   "execution_count": 5,
   "id": "33cf742a-4c2f-4e7a-b0b4-857f51cf398d",
   "metadata": {},
   "outputs": [
    {
     "name": "stdout",
     "output_type": "stream",
     "text": [
      "Persona(nombre='Fidel', apellido='Cornieles', edad=33)\n"
     ]
    }
   ],
   "source": [
    "from dataclasses \\\n",
    "    import dataclass\n",
    "# decorador dataclas\n",
    "@dataclass\n",
    "\n",
    "class Persona():\n",
    "    nombre: str\n",
    "    apellido:str\n",
    "    edad:int\n",
    "    \n",
    "#     def __str__(self):\n",
    "        \n",
    "#         return self.nombre + ' ' + self.apeliido+ self.edad\n",
    "fidel= Persona('Fidel','Cornieles', 33)\n",
    "# print(repr(fidel))\n",
    "print(fidel)\n"
   ]
  },
  {
   "cell_type": "code",
   "execution_count": 8,
   "id": "35529de1-7143-4e52-8aad-3b67602747d8",
   "metadata": {},
   "outputs": [
    {
     "name": "stdout",
     "output_type": "stream",
     "text": [
      "Fidel Cornieles de 33 años\n"
     ]
    }
   ],
   "source": [
    "class Persona():\n",
    "    def __init__(self, nombre, apellido, edad):\n",
    "        self.nombre=nombre\n",
    "        self.apellido=apellido\n",
    "        self.edad=edad\n",
    "        \n",
    "# El metodo a continuacion solo devuelve una cadena de caracteres, no devuelve valores enteros        \n",
    "    def __str__(self):\n",
    "        return self.nombre+ ' ' + self.apellido + ' de ' + str(self.edad) + ' años'\n",
    "    \n",
    "fidel= Persona('Fidel', 'Cornieles', 33)\n",
    "print(fidel)"
   ]
  },
  {
   "cell_type": "markdown",
   "id": "15216cc9-7e8d-4d3c-82f6-d3e7154bf957",
   "metadata": {},
   "source": [
    "# Objetos se pasan mensajes"
   ]
  },
  {
   "cell_type": "code",
   "execution_count": 13,
   "id": "2b243292-7971-4656-bf02-94c5679e7c0f",
   "metadata": {},
   "outputs": [
    {
     "name": "stdout",
     "output_type": "stream",
     "text": [
      "Me llamo Fidel, como te llamas?\n",
      "hola Fidel me llamo Rosaura\n",
      "hola Rosaura, cuantos años tienes?\n",
      "Hola Fidel, tengo 71 años y tu?\n"
     ]
    }
   ],
   "source": [
    "class Persona():\n",
    "    def __init__(self, nombre, edad):\n",
    "        self.nombre=nombre\n",
    "        self.edad=edad\n",
    "        \n",
    "    def __str__(self):\n",
    "        return self.nombre\n",
    "    \n",
    "    def presentarse(self):\n",
    "        print(\"Me llamo {}, como te llamas?\".format(self.nombre))\n",
    "\n",
    "# en el siguiente metodo 'otro' se refiere a otro objeto\n",
    "    def responder(self, otro):\n",
    "        print(\"hola {} me llamo {}\".format(otro.nombre, self.nombre))\n",
    "        \n",
    "    def preguntar_edad(self, otro):\n",
    "        print(\"hola {}, cuantos años tienes?\".format(otro.nombre))\n",
    "        \n",
    "    def responder_edad(self, otro):\n",
    "        print(\"Hola {}, tengo {} años y tu?\".format(otro.nombre, self.edad))\n",
    "        \n",
    "fidel= Persona('Fidel',33)\n",
    "rosaura= Persona('Rosaura',71)\n",
    "\n",
    "fidel.presentarse()\n",
    "rosaura.responder(fidel)\n",
    "\n",
    "fidel.preguntar_edad(rosaura)\n",
    "rosaura.responder_edad(fidel)"
   ]
  },
  {
   "cell_type": "code",
   "execution_count": null,
   "id": "8acd2380-d3ee-4da8-b2f7-23b17af78c29",
   "metadata": {},
   "outputs": [],
   "source": []
  }
 ],
 "metadata": {
  "kernelspec": {
   "display_name": "Python 3 (ipykernel)",
   "language": "python",
   "name": "python3"
  },
  "language_info": {
   "codemirror_mode": {
    "name": "ipython",
    "version": 3
   },
   "file_extension": ".py",
   "mimetype": "text/x-python",
   "name": "python",
   "nbconvert_exporter": "python",
   "pygments_lexer": "ipython3",
   "version": "3.9.12"
  }
 },
 "nbformat": 4,
 "nbformat_minor": 5
}

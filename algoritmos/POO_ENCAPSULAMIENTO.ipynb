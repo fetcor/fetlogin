{
 "cells": [
  {
   "cell_type": "markdown",
   "id": "15d00a16-00f9-460f-a71b-594f293d2bc0",
   "metadata": {},
   "source": [
    "## Pilares POO\n",
    "# Encapsulamiento\n",
    "La encapsulación es el proceso en el que protegemos la integridad interna de los datos en una clase.\n",
    "Es aplicar sobre los atributos ciertos alcances para que ese atributo sea utilizado dentro de la clase. sirve para evitar el desbordamiento de memoria.\n"
   ]
  },
  {
   "cell_type": "code",
   "execution_count": 1,
   "id": "4a49f781-69d9-4d8b-b56e-1b41f24b9f2f",
   "metadata": {},
   "outputs": [
    {
     "name": "stdout",
     "output_type": "stream",
     "text": [
      "1\n",
      "1\n"
     ]
    }
   ],
   "source": [
    "class A():\n",
    "    def __init__(self):\n",
    "        self._contador= 0\n",
    "    def incrementar(self):\n",
    "        self._contador +=1\n",
    "    def cuenta(self):\n",
    "        return self._contador\n",
    "a=A()\n",
    "a.incrementar()\n",
    "print(a.cuenta())\n",
    "# print(a.contador)<= esta forma de mostrar atributo es incorrecto, porque no se debe llamar a los atributos fuera de la clase\n",
    "# y para evitar esto suceda se debe colocar de la siguiente manera dentro de la clase y fuera con los(_)\n",
    "print(a._contador)"
   ]
  },
  {
   "cell_type": "markdown",
   "id": "e194d32a-0174-4578-9bd5-cc8e7fc42126",
   "metadata": {},
   "source": [
    "# Metodo get\n",
    "sirve para encapsulamiento. el nombre del metodo [ debe ser igual que el nombre del atributo como se presenta en el (def cuenta)]\n",
    "cada atributo debe tener su metodo get, como el contador y cuenta"
   ]
  },
  {
   "cell_type": "code",
   "execution_count": 5,
   "id": "f1b7b5bc-37e0-41a9-8895-7c53cf890114",
   "metadata": {},
   "outputs": [
    {
     "name": "stdout",
     "output_type": "stream",
     "text": [
      "0\n",
      "1\n"
     ]
    }
   ],
   "source": [
    "class A():\n",
    "    def __init__(self):\n",
    "        self._contador = 1\n",
    "        self._cuenta = 0\n",
    "#     metodo get\n",
    "# se procede a colocar @property para llamar al metodo como si fuera un atributo y lograr quitar los parentesis de\n",
    "# a.cuenta()\n",
    "    @property\n",
    "    def cuenta(self):\n",
    "        return self._cuenta\n",
    "    @property\n",
    "    def contador(self):\n",
    "        return self._contador\n",
    "    \n",
    "a=A()\n",
    "# a continuacion se manda a llamar al metodo cuenta y no al atributo cuenta, ya que es un error aunque python no \n",
    "# te lo arroje como error\n",
    "print(a.cuenta)\n",
    "print(a.contador)"
   ]
  },
  {
   "cell_type": "markdown",
   "id": "4452957b-fe22-4b6d-8e00-48f851bac4fa",
   "metadata": {},
   "source": [
    "# Metodo set\n",
    "sirve para cambiar el valor de cada atributo\n"
   ]
  },
  {
   "cell_type": "code",
   "execution_count": 7,
   "id": "fa55b488-9ea6-4b6f-8f96-2268cdded3e6",
   "metadata": {},
   "outputs": [
    {
     "name": "stdout",
     "output_type": "stream",
     "text": [
      "0\n",
      "20\n",
      "1\n",
      "21\n"
     ]
    }
   ],
   "source": [
    "class A():\n",
    "    def __init__(self):\n",
    "        self._contador = 1\n",
    "        self._cuenta = 0\n",
    "#     metodo get\n",
    "# se procede a colocar el decorador @property para llamar al metodo como si fuera un atributo y lograr quitar los parentesis de\n",
    "# a.cuenta()\n",
    "    @property\n",
    "    def cuenta(self):\n",
    "        return self._cuenta\n",
    "#     para el metodo setter o set se va aplicar un decorador con el mismo nombre del atributo o el metodo get @cuenta\n",
    "# el metodo set se va aparecer al metodo get pero va a cambiar la sintaxis de la siguiente manera:\n",
    "    @cuenta.setter\n",
    "    def cuenta(self,cuenta):\n",
    "        self._cuenta= cuenta\n",
    "    @property\n",
    "    def contador(self):\n",
    "        return self._contador\n",
    "    @contador.setter\n",
    "    def contador(self,contador):\n",
    "        self._contador= contador\n",
    "a=A()\n",
    "# metodo get:\n",
    "print(a.cuenta)\n",
    "# metodo set\n",
    "a.cuenta = 20\n",
    "# metodo get:\n",
    "print(a.cuenta)\n",
    "print(a.contador)\n",
    "a.contador= 21\n",
    "print(a.contador)"
   ]
  },
  {
   "cell_type": "code",
   "execution_count": null,
   "id": "a2af3501-5b63-4fce-9838-1f965831d852",
   "metadata": {},
   "outputs": [],
   "source": []
  }
 ],
 "metadata": {
  "kernelspec": {
   "display_name": "Python 3 (ipykernel)",
   "language": "python",
   "name": "python3"
  },
  "language_info": {
   "codemirror_mode": {
    "name": "ipython",
    "version": 3
   },
   "file_extension": ".py",
   "mimetype": "text/x-python",
   "name": "python",
   "nbconvert_exporter": "python",
   "pygments_lexer": "ipython3",
   "version": "3.9.12"
  }
 },
 "nbformat": 4,
 "nbformat_minor": 5
}

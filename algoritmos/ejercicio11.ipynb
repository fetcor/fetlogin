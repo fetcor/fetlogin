{
 "cells": [
  {
   "cell_type": "markdown",
   "id": "c2be9bbb-948f-4786-891f-c2f3f1c75fc3",
   "metadata": {},
   "source": [
    "## Ejercicios de teoria\n",
    "# Conjuntos\n",
    "Los conjuntos son buenos porque no permiten que se repitan elementos\n"
   ]
  },
  {
   "cell_type": "code",
   "execution_count": 18,
   "id": "eda23c4f-cef6-4228-bd09-d3a09f575e98",
   "metadata": {},
   "outputs": [
    {
     "name": "stdout",
     "output_type": "stream",
     "text": [
      "{2, 3, 5, 6, 7, 8, 9, 10}\n"
     ]
    }
   ],
   "source": [
    "conjunto={1,2,3,4,5,6}\n",
    "conjunto.add(7)\n",
    "conjunto.remove(4)\n",
    "conjunto.pop()\n",
    "conjunto.update([8,9,10])\n",
    "print(conjunto)"
   ]
  },
  {
   "cell_type": "markdown",
   "id": "9ec4cc64-11db-4159-8182-cd3935f1978d",
   "metadata": {},
   "source": [
    "# Tuplas\n"
   ]
  },
  {
   "cell_type": "code",
   "execution_count": 25,
   "id": "7523d09b-7d4c-4b0d-9072-4f8175965e16",
   "metadata": {},
   "outputs": [
    {
     "name": "stdin",
     "output_type": "stream",
     "text": [
      "ingresa numero de mes:  12\n"
     ]
    },
    {
     "name": "stdout",
     "output_type": "stream",
     "text": [
      "diciembre\n"
     ]
    }
   ],
   "source": [
    "meses=('enero','febrero','marzo','abril','mayo','junio','julio','agosto','septiembre','octubre','noviembre','diciembre')\n",
    "num=int(input(\"ingresa numero de mes: \"))\n",
    "A=meses[num-1]\n",
    "print(A)"
   ]
  },
  {
   "cell_type": "code",
   "execution_count": 39,
   "id": "39f250f9-8393-45e2-b67d-c2b798b7644e",
   "metadata": {},
   "outputs": [
    {
     "name": "stdin",
     "output_type": "stream",
     "text": [
      "ingresa un numero:  3\n"
     ]
    },
    {
     "name": "stdout",
     "output_type": "stream",
     "text": [
      "C\n"
     ]
    }
   ],
   "source": [
    "alfabeto=('A','B','C','D','E','F','G','H','I','J','K','L','M','N','O','P','Q','R','S','T','U','V','W','X','Y','Z')\n",
    "num=int(input(\"ingresa un numero: \"))\n",
    "\n",
    "if num < len(alfabeto):\n",
    "    a=alfabeto[num-1]\n",
    "    print(a)\n",
    "else:\n",
    "    print(\"numero fuera de rango del alfabeto\")\n",
    "    "
   ]
  },
  {
   "cell_type": "code",
   "execution_count": null,
   "id": "97c40691-753c-4148-ad96-ad50d87b5090",
   "metadata": {},
   "outputs": [],
   "source": []
  }
 ],
 "metadata": {
  "kernelspec": {
   "display_name": "Python 3 (ipykernel)",
   "language": "python",
   "name": "python3"
  },
  "language_info": {
   "codemirror_mode": {
    "name": "ipython",
    "version": 3
   },
   "file_extension": ".py",
   "mimetype": "text/x-python",
   "name": "python",
   "nbconvert_exporter": "python",
   "pygments_lexer": "ipython3",
   "version": "3.9.12"
  }
 },
 "nbformat": 4,
 "nbformat_minor": 5
}

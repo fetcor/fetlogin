{
 "cells": [
  {
   "cell_type": "markdown",
   "id": "6959b988-92d4-4805-a854-124505495da3",
   "metadata": {},
   "source": [
    "## POO PILARES\n",
    "# HERENCIA\n",
    "La herencia nos permite definir múltiples subclases a partir de una clase ya definida. Es tener dos o mas clases y que una herenden los atributos y metodos de los padres\n",
    "\n",
    "El propósito principal es seguir el principio DRY. Podrás reutilizar mucho código implementando todos los componentes compartidos en superclases.\n",
    "\n",
    "Puedes pensar en ello como el concepto de herencia genética en la vida real. Los hijos (subclases) son el resultado de la herencia entre dos padres (superclases). Heredan todas las características físicas (atributos) y algunos comportamientos comunes (métodos).\n"
   ]
  },
  {
   "cell_type": "code",
   "execution_count": 2,
   "id": "678baf6b-a57e-445b-bc28-3325892432aa",
   "metadata": {},
   "outputs": [
    {
     "name": "stdout",
     "output_type": "stream",
     "text": [
      "Yo soy un animal\n",
      "Yo soy un animal\n",
      "Yo soy un Abeja \n"
     ]
    }
   ],
   "source": [
    "class Animales():\n",
    "    def habla(self):\n",
    "        print(\"Yo soy un animal\")\n",
    "        \n",
    "    def descripcion(self):\n",
    "        print(\"Yo soy un {} \".format(self.animal))\n",
    "\n",
    "class Perro(Animales):\n",
    "    pass\n",
    "\n",
    "class Abeja(Animales):\n",
    "    def __init__(self, animal):\n",
    "        self.animal= animal\n",
    "                                     \n",
    "                                     \n",
    "                                     \n",
    "\n",
    "animal= Animales()\n",
    "animal.habla()\n",
    "\n",
    "perro= Perro()\n",
    "perro.habla()\n",
    "\n",
    "abeja= Abeja('Abeja')\n",
    "abeja.descripcion()"
   ]
  },
  {
   "cell_type": "markdown",
   "id": "a238853e-7191-4e29-9a50-3be01b33836d",
   "metadata": {},
   "source": [
    "## Profundizar herencia\n"
   ]
  },
  {
   "cell_type": "code",
   "execution_count": 9,
   "id": "43ec52d1-e6ac-4b3d-b864-f9a3c74c28a4",
   "metadata": {},
   "outputs": [
    {
     "name": "stdout",
     "output_type": "stream",
     "text": [
      "firulais guao\n"
     ]
    }
   ],
   "source": [
    "class Animales():\n",
    "    def __init__(self,nombre):\n",
    "        self.nombre= nombre\n",
    "\n",
    "class Perro(Animales):\n",
    "    def __init__(self, nombre, sonido):\n",
    "        super().__init__(nombre)\n",
    "        self.sonido= sonido\n",
    "        \n",
    "perro= Perro('firulais', 'guao')\n",
    "print(perro.nombre, perro.sonido)"
   ]
  },
  {
   "cell_type": "markdown",
   "id": "652ed64c-1c5a-4bba-a148-1e1980e6b35d",
   "metadata": {},
   "source": [
    "# Herencia multiple"
   ]
  },
  {
   "cell_type": "code",
   "execution_count": 13,
   "id": "ebc22af7-27aa-43a3-9ee4-ccd8104b740f",
   "metadata": {},
   "outputs": [
    {
     "name": "stdout",
     "output_type": "stream",
     "text": [
      "Esta es la clase A y tambien Esta es la clase B\n"
     ]
    }
   ],
   "source": [
    "class A():\n",
    "    def primera(self):\n",
    "        return \"Esta es la clase A\"\n",
    "    \n",
    "class B():\n",
    "    def segunda(self):\n",
    "        return \"Esta es la clase B\"\n",
    "    \n",
    "class C(A,B):\n",
    "    pass\n",
    "\n",
    "c=C()\n",
    "print(c.primera(),\"y tambien\",c.segunda())"
   ]
  },
  {
   "cell_type": "code",
   "execution_count": null,
   "id": "e0f9a7c0-cd51-4aa1-ab4e-94a199d46e08",
   "metadata": {},
   "outputs": [],
   "source": []
  }
 ],
 "metadata": {
  "kernelspec": {
   "display_name": "Python 3 (ipykernel)",
   "language": "python",
   "name": "python3"
  },
  "language_info": {
   "codemirror_mode": {
    "name": "ipython",
    "version": 3
   },
   "file_extension": ".py",
   "mimetype": "text/x-python",
   "name": "python",
   "nbconvert_exporter": "python",
   "pygments_lexer": "ipython3",
   "version": "3.9.12"
  }
 },
 "nbformat": 4,
 "nbformat_minor": 5
}

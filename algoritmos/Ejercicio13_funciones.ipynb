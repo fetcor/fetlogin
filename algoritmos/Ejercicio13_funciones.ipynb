{
 "cells": [
  {
   "cell_type": "markdown",
   "id": "f6fcf41e-feba-42fa-bcdd-232c9c4d866f",
   "metadata": {},
   "source": [
    "## Ejercicio 13\n",
    "# funciones\n",
    "Una funcion es una secuencia de sentencias que realizan una operacion y que reciben un nombre"
   ]
  },
  {
   "cell_type": "code",
   "execution_count": 9,
   "id": "018ec7cd-f1af-43d3-a220-f4ff56c5678b",
   "metadata": {},
   "outputs": [
    {
     "name": "stdout",
     "output_type": "stream",
     "text": [
      "(-2.0, -2.0)\n"
     ]
    }
   ],
   "source": [
    "import math as mt\n",
    "\n",
    "def ecuacion_cuadratica(a,b,c):\n",
    "    x1=(-b+mt.sqrt(b**2-4*a*c))/2*a\n",
    "    x2=(-b-mt.sqrt(b**2-4*a*c))/2*a\n",
    "    return  (x1,x2)\n",
    "n=ecuacion_cuadratica(1,4,4)\n",
    "print(n)\n",
    "\n",
    "\n"
   ]
  },
  {
   "cell_type": "code",
   "execution_count": 14,
   "id": "222d1232-fd18-4aa6-8f0e-daa1a5a7a1ea",
   "metadata": {},
   "outputs": [
    {
     "name": "stdout",
     "output_type": "stream",
     "text": [
      "Esta es la tabla del 11 y se presenta a continuacion: 11x0=0\n",
      "Esta es la tabla del 11 y se presenta a continuacion: 11x1=11\n",
      "Esta es la tabla del 11 y se presenta a continuacion: 11x2=22\n",
      "Esta es la tabla del 11 y se presenta a continuacion: 11x3=33\n",
      "Esta es la tabla del 11 y se presenta a continuacion: 11x4=44\n",
      "Esta es la tabla del 11 y se presenta a continuacion: 11x5=55\n",
      "Esta es la tabla del 11 y se presenta a continuacion: 11x6=66\n",
      "Esta es la tabla del 11 y se presenta a continuacion: 11x7=77\n",
      "Esta es la tabla del 11 y se presenta a continuacion: 11x8=88\n",
      "Esta es la tabla del 11 y se presenta a continuacion: 11x9=99\n",
      "Esta es la tabla del 11 y se presenta a continuacion: 11x10=110\n"
     ]
    }
   ],
   "source": [
    "def tabla_de_multiplicar(m):\n",
    "    for i in range(11):\n",
    "        print(\"Esta es la tabla del {} y se presenta a continuacion: {}x{}={}\".format(m,m,i,m*i))\n",
    "v=tabla_de_multiplicar(11)\n",
    "\n",
    "    "
   ]
  },
  {
   "cell_type": "code",
   "execution_count": 25,
   "id": "170fe60d-0a74-410d-9d27-8b085fe7f236",
   "metadata": {},
   "outputs": [
    {
     "name": "stdin",
     "output_type": "stream",
     "text": [
      "cuantos numeros quieres agregar a la lista 'A':  5\n",
      "ingresa numero:  3\n",
      "ingresa numero:  1\n",
      "ingresa numero:  7\n",
      "ingresa numero:  2\n",
      "ingresa numero:  4\n"
     ]
    },
    {
     "name": "stdout",
     "output_type": "stream",
     "text": [
      "[1, 2, 3, 4, 7]\n"
     ]
    }
   ],
   "source": [
    "A=[]\n",
    "def ingresa_numero():\n",
    "    n=int(input(\"cuantos numeros quieres agregar a la lista 'A': \"))\n",
    "    for i in range(n):\n",
    "        d=int(input(\"ingresa numero: \"))\n",
    "        A.append(d)\n",
    "        A.sort()\n",
    "    print(A)\n",
    "\n",
    "\n",
    "ingresa_numero()\n"
   ]
  },
  {
   "cell_type": "code",
   "execution_count": 24,
   "id": "8d6289a8-4949-4615-ac19-a92a3b074cfb",
   "metadata": {},
   "outputs": [
    {
     "name": "stdout",
     "output_type": "stream",
     "text": [
      "[0, 2, 4, 6, 8, 10, 12, 14]\n",
      "[1, 3, 5, 7, 9, 11, 13]\n"
     ]
    }
   ],
   "source": [
    "B=[]\n",
    "C=[]\n",
    "def numeros_pares_impares(n):\n",
    "    for k in range(0,n,2):\n",
    "        B.append(k)\n",
    "    for j in range(1,n,2):\n",
    "        C.append(j)\n",
    "    print(B)\n",
    "    print(C)\n",
    "numeros_pares_impares(15)"
   ]
  },
  {
   "cell_type": "code",
   "execution_count": 30,
   "id": "6aae0326-9a8e-4c90-ba99-6d9fad8934b4",
   "metadata": {},
   "outputs": [
    {
     "name": "stdout",
     "output_type": "stream",
     "text": [
      "Este es el factorial 720 de 6\n"
     ]
    }
   ],
   "source": [
    "def factorial(num):\n",
    "    fac=1\n",
    "    for i in range(1,num+1):\n",
    "        fac*=i\n",
    "    print(\"Este es el factorial {} de {}\".format(fac,num))\n",
    "factorial(6)"
   ]
  },
  {
   "cell_type": "code",
   "execution_count": null,
   "id": "5650d977-fa7b-41f0-80dc-532c6f10f52d",
   "metadata": {},
   "outputs": [],
   "source": []
  }
 ],
 "metadata": {
  "kernelspec": {
   "display_name": "Python 3 (ipykernel)",
   "language": "python",
   "name": "python3"
  },
  "language_info": {
   "codemirror_mode": {
    "name": "ipython",
    "version": 3
   },
   "file_extension": ".py",
   "mimetype": "text/x-python",
   "name": "python",
   "nbconvert_exporter": "python",
   "pygments_lexer": "ipython3",
   "version": "3.9.12"
  }
 },
 "nbformat": 4,
 "nbformat_minor": 5
}

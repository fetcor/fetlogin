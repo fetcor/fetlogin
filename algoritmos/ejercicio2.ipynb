{
 "cells": [
  {
   "cell_type": "markdown",
   "id": "865803d7-8f46-47f1-8c42-ea8b711844ae",
   "metadata": {},
   "source": [
    "# Ejercicio 2 en python"
   ]
  },
  {
   "cell_type": "code",
   "execution_count": 5,
   "id": "596f70f4-265c-43f3-9f16-45c949ee5c3a",
   "metadata": {},
   "outputs": [
    {
     "name": "stdout",
     "output_type": "stream",
     "text": [
      "Dado un numero por el usuario, la salida debe ser si es impar o par\n",
      "\n"
     ]
    },
    {
     "name": "stdin",
     "output_type": "stream",
     "text": [
      "ingresa un numero:  101\n"
     ]
    },
    {
     "name": "stdout",
     "output_type": "stream",
     "text": [
      "El numero es impar\n"
     ]
    }
   ],
   "source": [
    "print(\"Dado un numero por el usuario, la salida debe ser si es impar o par\")\n",
    "print()\n",
    "n=int(input(\"ingresa un numero: \"))\n",
    "if n%2==0:\n",
    "    print(\"El numero es par\")\n",
    "else:\n",
    "    print(\"El numero es impar\")"
   ]
  },
  {
   "cell_type": "code",
   "execution_count": null,
   "id": "34bfd631-a82d-4558-b157-86477295890c",
   "metadata": {},
   "outputs": [],
   "source": []
  }
 ],
 "metadata": {
  "kernelspec": {
   "display_name": "Python 3 (ipykernel)",
   "language": "python",
   "name": "python3"
  },
  "language_info": {
   "codemirror_mode": {
    "name": "ipython",
    "version": 3
   },
   "file_extension": ".py",
   "mimetype": "text/x-python",
   "name": "python",
   "nbconvert_exporter": "python",
   "pygments_lexer": "ipython3",
   "version": "3.9.12"
  }
 },
 "nbformat": 4,
 "nbformat_minor": 5
}

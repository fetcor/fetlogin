{
 "cells": [
  {
   "cell_type": "markdown",
   "id": "63ecc3ba-f3a9-4e8c-9975-f09217bd74ae",
   "metadata": {},
   "source": [
    "## Ejercicios\n",
    "# 1.\n",
    "Realizar un programa que conste de una clase llamada Estudiante, que tenga como atributos el nombre y la nota del alumno. Definir los métodos para inicializar sus atributos, imprimirlos y mostrar un mensaje con el resultado de la nota y si ha aprobado o no."
   ]
  },
  {
   "cell_type": "code",
   "execution_count": 1,
   "id": "2d1c3641-b554-4a14-8d2a-e699ec71d79c",
   "metadata": {},
   "outputs": [
    {
     "name": "stdout",
     "output_type": "stream",
     "text": [
      "Hola! mi nombre es: Fidel\n",
      "La nota de Fidel es: 20, aprobo con exito\n"
     ]
    }
   ],
   "source": [
    "# creacion de clase\n",
    "class Estudiante():\n",
    "# creacion de los metodos\n",
    "    def __init__(self, nombre, nota):\n",
    "        self.nombre= nombre\n",
    "        self.nota= nota\n",
    "    \n",
    "    def hablar(self):\n",
    "        print(\"Hola! mi nombre es: {}\".format(self.nombre))\n",
    "    \n",
    "    def aprobe(self):\n",
    "        if self.nota >= 15:\n",
    "            print(\"La nota de {} es: {}, aprobo con exito\".format(self.nombre,self.nota))\n",
    "        else:\n",
    "            print(\"La nota de {} es: {}, lo siento, has reprobado\".format(self.nombre, self.nota))\n",
    "\n",
    "            \n",
    "# creacion del objeto\n",
    "estudiante= Estudiante(\"Fidel\", 20)\n",
    "\n",
    "\n",
    "# llamada de los metodos a ejecutar\n",
    "estudiante.hablar()\n",
    "estudiante.aprobe()\n",
    "        \n",
    "        "
   ]
  },
  {
   "cell_type": "markdown",
   "id": "9c8b42e6-1805-4fb5-afc9-9f953efb7e1e",
   "metadata": {},
   "source": [
    "# 2.\n",
    "Realizar un programa en el cual se declaren dos valores enteros por teclado utilizando el método __init__. Calcular después la suma, resta, multiplicación y división. Utilizar un método para cada una e imprimir los resultados obtenidos. Llamar a la clase Calculadora."
   ]
  },
  {
   "cell_type": "code",
   "execution_count": 23,
   "id": "1adde183-8628-46d8-87e5-5e3116be9def",
   "metadata": {},
   "outputs": [
    {
     "name": "stdin",
     "output_type": "stream",
     "text": [
      "ingrese primer dato:  2\n",
      "ingrese segundo dato:  0\n"
     ]
    },
    {
     "name": "stdout",
     "output_type": "stream",
     "text": [
      "El resultado de la suma es: 2\n",
      "El resultado de la resta es: 2\n",
      "El resultado de la multiplicacion es: 0\n",
      "No se puede dividir por cero\n"
     ]
    }
   ],
   "source": [
    "class Calculadora():\n",
    "    def __init__(self):\n",
    "        self.valor_1=int(input(\"ingrese primer dato: \"))\n",
    "    \n",
    "        self.valor_2=int(input(\"ingrese segundo dato: \"))\n",
    "              \n",
    "\n",
    "    def suma(self):\n",
    "        su=self.valor_1+self.valor_2\n",
    "        print(\"El resultado de la suma es: {}\".format(su))\n",
    "    \n",
    "    def resta(self):\n",
    "        rest=self.valor_1-self.valor_2\n",
    "        print(\"El resultado de la resta es: {}\".format(rest))\n",
    "        \n",
    "    def multiplicacion(self):\n",
    "        mult=self.valor_1*self.valor_2\n",
    "        print(\"El resultado de la multiplicacion es: {}\".format(mult))\n",
    "        \n",
    "    def division(self):\n",
    "        while True:\n",
    "            try:\n",
    "                \n",
    "                div=self.valor_1/self.valor_2\n",
    "                print(\"El resultado de la division es: {}\".format(div))\n",
    "                break\n",
    "            except ZeroDivisionError:\n",
    "                print(\"No se puede dividir por cero\")\n",
    "                break\n",
    "        \n",
    "calculadora= Calculadora()\n",
    "calculadora.suma()\n",
    "calculadora.resta()\n",
    "calculadora.multiplicacion()\n",
    "calculadora.division()"
   ]
  },
  {
   "cell_type": "markdown",
   "id": "476796aa-9f57-484a-838e-6dba70ca9cf2",
   "metadata": {},
   "source": [
    "# 3.\n",
    "Crear una clase Fabrica que tenga los atributos de Llantas, Color y Precio; luego crear dos clases mas que hereden de Fabrica, las cuales son Moto y Carro. Crear metodos que muestren la cantidad de llantas, color y precio de ambos transportes. Por ultimo, crear objetos para cada clase y mostrar por pantalla los atributos de cada uno."
   ]
  },
  {
   "cell_type": "code",
   "execution_count": 8,
   "id": "a3d37cfc-021c-44a5-a643-faef241ebfcd",
   "metadata": {},
   "outputs": [
    {
     "name": "stdout",
     "output_type": "stream",
     "text": [
      "El carro tiene 4 llantas  es de color Rojo  y cuesta 35000 $\n",
      "La moto tiene 2 llantas  es de color negra  y cuesta 4000 $\n"
     ]
    }
   ],
   "source": [
    "class Fabrica():\n",
    "    def __init__(self, llantas, color, precio):\n",
    "        self.llantas= llantas\n",
    "        self.color= color\n",
    "        self.precio= precio\n",
    "        \n",
    "class Carro(Fabrica):\n",
    "    def __init__(self, llantas, color, precio):\n",
    "        super().__init__(llantas, color, precio)\n",
    "\n",
    "class Moto(Fabrica):\n",
    "    def __init__(self, llantas, color, precio):\n",
    "        super().__init__(llantas, color, precio)\n",
    "        \n",
    "\n",
    "carro= Carro('4 llantas','Rojo','35000 $')\n",
    "print(\"El carro tiene\",carro.llantas,\" es de color\", carro.color,\" y cuesta\", carro.precio)\n",
    "\n",
    "moto= Moto('2 llantas', 'negra', '4000 $')\n",
    "print(\"La moto tiene\", moto.llantas,\" es de color\", moto.color,\" y cuesta\", moto.precio)"
   ]
  },
  {
   "cell_type": "markdown",
   "id": "b2e39ee6-3aaf-45c7-8d68-879e5e9c06fc",
   "metadata": {},
   "source": [
    "# 4.\n",
    "Crear una clase llamada Marino(), con un metodo que sea hablar, en donde muestre un mensaje que diga \"Hola...\". Luego, crear una clase Pulpo() que herede Marino, pero modificar el mensaje de hablar por \"Soy un Pulpo\". Por ultimo, crear una clase Foca(), heredada de Marino, pero que tenga un atributo nuevo llamado mensaje y que muestre ese mesjae como parametro"
   ]
  },
  {
   "cell_type": "code",
   "execution_count": 21,
   "id": "575fd00e-d1c9-4048-b420-d3093738182b",
   "metadata": {},
   "outputs": [
    {
     "name": "stdout",
     "output_type": "stream",
     "text": [
      "Hola\n",
      "soy un pulpo\n",
      "Este  pulpo es un bicho feo \n"
     ]
    }
   ],
   "source": [
    "class Marino():\n",
    "    def hablar(self):\n",
    "        print(\"Hola\")\n",
    "        \n",
    "    def descripcion(self):\n",
    "        print(\"Este {} \".format(self.mensaje))\n",
    "\n",
    "class Pulpo(Marino):\n",
    "    def hablar(self):\n",
    "        print(\"soy un pulpo\")\n",
    "    \n",
    "class Foca(Marino):\n",
    "    def __init__(self,mensaje):\n",
    "        self.mensaje= mensaje\n",
    "        \n",
    "    \n",
    "        \n",
    "marino=Marino()\n",
    "marino.hablar()\n",
    "\n",
    "pulpo= Pulpo()\n",
    "pulpo.hablar()\n",
    "\n",
    "foca= Foca(\" pulpo es un bicho feo\")\n",
    "foca.descripcion()\n",
    "        \n",
    "    "
   ]
  },
  {
   "cell_type": "markdown",
   "id": "79381dbc-fbc2-4613-b3cf-15d77b902872",
   "metadata": {},
   "source": [
    "# 5.\n",
    "Crear un programa con tres clases Universidad, con atributos nombre (Donde se almacena el nombre de la Universidad). Otra llamada Carerra, con los atributos especialidad (En donde me guarda la especialidad de un estudiante). Una ultima llamada Estudiante, que tenga como atributos su nombre y edad. El programa debe imprimir la especialidad, edad, nombre y universidad de dicho estudiante con un objeto llamado persona."
   ]
  },
  {
   "cell_type": "code",
   "execution_count": 35,
   "id": "f50e480e-7d56-4b50-9874-cd813fcc6c06",
   "metadata": {},
   "outputs": [
    {
     "name": "stdout",
     "output_type": "stream",
     "text": [
      "mi nombre es Fidel Cornieles mi edad es 22 anios y estudio Ingenieria mecanica en la UCV\n"
     ]
    }
   ],
   "source": [
    "class Universidad():\n",
    "    def __init__(self, nombreu):\n",
    "        self.nombreu= nombreu\n",
    "    \n",
    "class Carrera():\n",
    "    def carrera(self, especialidad):\n",
    "        self.especialidad= especialidad\n",
    "        \n",
    "class Estudiante(Universidad, Carrera):\n",
    "    def datos(self, nombre, edad):\n",
    "        self.nombre= nombre\n",
    "        self.edad= edad\n",
    "        print(\"mi nombre es {} mi edad es {} y estudio {} en la {}\".format(self.nombre,self.edad, self.especialidad,self.nombreu))\n",
    "        \n",
    "persona= Estudiante('UCV')\n",
    "persona.carrera('Ingenieria mecanica')\n",
    "persona.datos('Fidel Cornieles', '22 anios')\n"
   ]
  },
  {
   "cell_type": "code",
   "execution_count": null,
   "id": "0976269d-2964-49e9-99a1-f9ee4b8954fa",
   "metadata": {},
   "outputs": [],
   "source": []
  },
  {
   "cell_type": "code",
   "execution_count": null,
   "id": "ae706876-182e-409a-9763-e8b0cd9988db",
   "metadata": {},
   "outputs": [],
   "source": []
  }
 ],
 "metadata": {
  "kernelspec": {
   "display_name": "Python 3 (ipykernel)",
   "language": "python",
   "name": "python3"
  },
  "language_info": {
   "codemirror_mode": {
    "name": "ipython",
    "version": 3
   },
   "file_extension": ".py",
   "mimetype": "text/x-python",
   "name": "python",
   "nbconvert_exporter": "python",
   "pygments_lexer": "ipython3",
   "version": "3.9.12"
  }
 },
 "nbformat": 4,
 "nbformat_minor": 5
}
